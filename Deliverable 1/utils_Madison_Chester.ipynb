{
 "cells": [
  {
   "cell_type": "markdown",
   "metadata": {},
   "source": [
    "### Contributions: Madison's Notebook"
   ]
  },
  {
   "cell_type": "markdown",
   "metadata": {},
   "source": [
    "In our project, we structured our workflow into three main blocks: Text Preprocessing, Feature Generation, and Classification, following the structure proposed by scikit-learn Pipeline. Each block was implemented as a separate class. My contributions to the project can be summarized as follows:\n",
    "\n",
    "\n",
    "1.\tDesign of the pipeline and execution flow: I was involved in designing the overall pipeline and defining the execution flow. We laid out the structure of the project and determined how each step would interact with one another.\n",
    "\n",
    "2.\tTextPreprocessor class: I took the lead in developing the TextPreprocessor class, which was responsible for cleaning the input question pairs. This class applied various text transformations, such as removing stop words, punctuation, and converting text to lowercase. We designed it to output a dataframe with the same structure as the input, ensuring consistency throughout the pipeline.\n",
    "\n",
    "3.\tSupport in development of FeatureGenerator: I also developed the FeatureGenerator class. Initially, this class produced a single feature per question pair by aggregating two individual question features. I contributed by enhancing the class to support the combination of multiple features into the same feature matrix. Additionally, I worked on developing some of the feature extraction methods, such as count vectorization and TF-IDF, as well as aggregation functions like horizontal stacking.\n",
    "\n",
    "4.\tGrid Search Design: I was responsible for designing the grid search process, including the function to generate parameter grids and the training code for GridSearchCV. The objective was to explore the complete combination of preprocessing parameters, feature generation techniques, and machine learning model parameters. Although we were unable to run the complete grid search due to computational constraints, it served as a valuable reference for our experimentation.\n",
    "\n",
    "\n",
    "To fully understand the implementations of the TextPreprocessor and FeatureGenerator classes, it's important to note that:\n",
    "\n",
    "- These classes were designed to be parsed as transformations within the scikit-learn Pipeline. They implemented the fit and transform methods, with fit returning the class itself and transform returning the transformed output.\n",
    "\n",
    "- The pipeline consisted of preprocessing the questions' text using the TextPreprocessor class, followed by feature generation using the FeatureGenerator class. The FeatureGenerator class extracted feature vectors for each question and aggregated them into a single feature vector. Extra features were also added to the feature matrix using the ExtraFeaturesCreator class.\n",
    "\n",
    "- The classes supported various methods for feature vector extraction, aggregation, and extra feature creation, which were stored in private global variables at the module level.\n",
    "\n",
    "- A utility for the FeatureGenerator class was also implemented, allowing the stacking of multiple feature vectors from different extraction and aggregation techniques, which significantly improved performance.\n",
    "\n",
    "\n",
    "Overall, my contributions were instrumental in driving the project forward, ensuring efficient text processing, feature generation, and model training within the pipeline structure we designed.\n"
   ]
  }
 ],
 "metadata": {
  "language_info": {
   "name": "python"
  }
 },
 "nbformat": 4,
 "nbformat_minor": 2
}
