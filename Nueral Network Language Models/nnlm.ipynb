{
  "cells": [
    {
      "cell_type": "markdown",
      "metadata": {
        "id": "6yz9PnKJG4Vr"
      },
      "source": [
        "# Transformers for Machine Translation Tasks\n",
        "\n",
        "The purpose of this notebook is to work with transformer models for machine translation (MT) using three different approaches:\n",
        "1. Training a transformer model from scratch.\n",
        "2. Using a pre-trained model.\n",
        "3. Fine-tuning a pre-trained model.\n",
        "\n",
        "The translation task we are going to study constitutes an early example of a data driven task defined in the field of MT. The task is called EUTRANS-I or simply, the Traveller task, and its goal is to translate, from Spanish to English, a set of sentences involving human-to-human communication situations in the front-desk of a hotel. EUTRANS-I was generally tackled by means of statistical machine translation (SMT) techniques. SMT was the state-of-the-art technology preceeding the advent of NLP deep learning applications. EUTRANS-I is going to be useful for us due to its simplicity and small size, which will allow us to quickly execute translation experiments.\n",
        "\n",
        "An MT dataset typically consists of parallel files containing sentences or paragraphs in the source language and their corresponding translation in the target language. Separated pairs of files are often provided for training, validation and testing purposes. The EUTRANS-I original dataset was composed of 10K sentence pairs for training and 3K sentence pairs for testing, with no validation set. For this session, the original test part has been randomly shuffled and used to generate two subsets of 500 sentence pairs that will be used for validation and test sets (we are not using the whole original test set in order to speed up calculations).\n",
        "\n",
        "In addition to this, a smaller version of the EUTRANS-I dataset with only 2000 training pairs has also been created for this session. This dataset may be useful for debugging purposes or to speed up calculations if GPUs are not available (the notebook is configured to run on GPUs but their availability depend on different factors).\n",
        "\n",
        "Both versions of the EUTRANS-I dataset are included in the materials for this session and it is recommended that the corresponding folders are put in a Google Drive folder. This is because the easiest way to execute this notebook is to resort to Google Colab."
      ]
    },
    {
      "cell_type": "markdown",
      "metadata": {
        "id": "Q6DhCElwcDwJ"
      },
      "source": [
        "## Translating with a Model Trained From Scratch\n",
        "\n",
        "The first approach to MT we are going to explore consists in defining a transformer model and training it from scratch. Working with deep learning architectures has become increasingly affordable thanks to two libraries: [TensorFlow](https://www.tensorflow.org/) and [PyTorch](https://pytorch.org/). This session is going to use PyTorch. PyTorch libraries can be installed locally or in the cloud (if we use Google Colab). Some of the commands executed in this notebook are used to install the required software. In spite of the fact that some requested package versions are no longer the latest ones, they have been chosen here so as to avoid current bugs or incompatibilities.\n",
        "\n",
        "The content of this section is based on the [official documentation of Pytorch for transformer models](https://pytorch.org/tutorials/beginner/translation_transformer.html). The most relevant modifications that haven been made here are related to data handling and also to enable the comparison of the translation quality results of this approach with the other two approaches to be tested. In addition to this, the code has largely been reordered."
      ]
    },
    {
      "cell_type": "code",
      "execution_count": 1,
      "metadata": {
        "colab": {
          "base_uri": "https://localhost:8080/"
        },
        "id": "cVkWDJO_N_a0",
        "outputId": "f3a828de-692e-48e4-aec7-e34d40cfec58"
      },
      "outputs": [
        {
          "output_type": "stream",
          "name": "stdout",
          "text": [
            "Requirement already satisfied: torch in /usr/local/lib/python3.10/dist-packages (2.2.1+cu121)\n",
            "Requirement already satisfied: torchvision in /usr/local/lib/python3.10/dist-packages (0.17.1+cu121)\n",
            "Requirement already satisfied: torchaudio in /usr/local/lib/python3.10/dist-packages (2.2.1+cu121)\n",
            "Requirement already satisfied: torchtext in /usr/local/lib/python3.10/dist-packages (0.17.1)\n",
            "Requirement already satisfied: torchdata in /usr/local/lib/python3.10/dist-packages (0.7.1)\n",
            "Requirement already satisfied: filelock in /usr/local/lib/python3.10/dist-packages (from torch) (3.14.0)\n",
            "Requirement already satisfied: typing-extensions>=4.8.0 in /usr/local/lib/python3.10/dist-packages (from torch) (4.11.0)\n",
            "Requirement already satisfied: sympy in /usr/local/lib/python3.10/dist-packages (from torch) (1.12)\n",
            "Requirement already satisfied: networkx in /usr/local/lib/python3.10/dist-packages (from torch) (3.3)\n",
            "Requirement already satisfied: jinja2 in /usr/local/lib/python3.10/dist-packages (from torch) (3.1.4)\n",
            "Requirement already satisfied: fsspec in /usr/local/lib/python3.10/dist-packages (from torch) (2023.6.0)\n",
            "Requirement already satisfied: nvidia-cuda-nvrtc-cu12==12.1.105 in /usr/local/lib/python3.10/dist-packages (from torch) (12.1.105)\n",
            "Requirement already satisfied: nvidia-cuda-runtime-cu12==12.1.105 in /usr/local/lib/python3.10/dist-packages (from torch) (12.1.105)\n",
            "Requirement already satisfied: nvidia-cuda-cupti-cu12==12.1.105 in /usr/local/lib/python3.10/dist-packages (from torch) (12.1.105)\n",
            "Requirement already satisfied: nvidia-cudnn-cu12==8.9.2.26 in /usr/local/lib/python3.10/dist-packages (from torch) (8.9.2.26)\n",
            "Requirement already satisfied: nvidia-cublas-cu12==12.1.3.1 in /usr/local/lib/python3.10/dist-packages (from torch) (12.1.3.1)\n",
            "Requirement already satisfied: nvidia-cufft-cu12==11.0.2.54 in /usr/local/lib/python3.10/dist-packages (from torch) (11.0.2.54)\n",
            "Requirement already satisfied: nvidia-curand-cu12==10.3.2.106 in /usr/local/lib/python3.10/dist-packages (from torch) (10.3.2.106)\n",
            "Requirement already satisfied: nvidia-cusolver-cu12==11.4.5.107 in /usr/local/lib/python3.10/dist-packages (from torch) (11.4.5.107)\n",
            "Requirement already satisfied: nvidia-cusparse-cu12==12.1.0.106 in /usr/local/lib/python3.10/dist-packages (from torch) (12.1.0.106)\n",
            "Requirement already satisfied: nvidia-nccl-cu12==2.19.3 in /usr/local/lib/python3.10/dist-packages (from torch) (2.19.3)\n",
            "Requirement already satisfied: nvidia-nvtx-cu12==12.1.105 in /usr/local/lib/python3.10/dist-packages (from torch) (12.1.105)\n",
            "Requirement already satisfied: triton==2.2.0 in /usr/local/lib/python3.10/dist-packages (from torch) (2.2.0)\n",
            "Requirement already satisfied: nvidia-nvjitlink-cu12 in /usr/local/lib/python3.10/dist-packages (from nvidia-cusolver-cu12==11.4.5.107->torch) (12.4.127)\n",
            "Requirement already satisfied: numpy in /usr/local/lib/python3.10/dist-packages (from torchvision) (1.25.2)\n",
            "Requirement already satisfied: pillow!=8.3.*,>=5.3.0 in /usr/local/lib/python3.10/dist-packages (from torchvision) (9.4.0)\n",
            "Requirement already satisfied: tqdm in /usr/local/lib/python3.10/dist-packages (from torchtext) (4.66.4)\n",
            "Requirement already satisfied: requests in /usr/local/lib/python3.10/dist-packages (from torchtext) (2.31.0)\n",
            "Requirement already satisfied: urllib3>=1.25 in /usr/local/lib/python3.10/dist-packages (from torchdata) (2.0.7)\n",
            "Requirement already satisfied: MarkupSafe>=2.0 in /usr/local/lib/python3.10/dist-packages (from jinja2->torch) (2.1.5)\n",
            "Requirement already satisfied: charset-normalizer<4,>=2 in /usr/local/lib/python3.10/dist-packages (from requests->torchtext) (3.3.2)\n",
            "Requirement already satisfied: idna<4,>=2.5 in /usr/local/lib/python3.10/dist-packages (from requests->torchtext) (3.7)\n",
            "Requirement already satisfied: certifi>=2017.4.17 in /usr/local/lib/python3.10/dist-packages (from requests->torchtext) (2024.2.2)\n",
            "Requirement already satisfied: mpmath>=0.19 in /usr/local/lib/python3.10/dist-packages (from sympy->torch) (1.3.0)\n"
          ]
        }
      ],
      "source": [
        "!pip install torch torchvision torchaudio torchtext torchdata"
      ]
    },
    {
      "cell_type": "markdown",
      "metadata": {
        "id": "Jj2UKPLeG4Vy"
      },
      "source": [
        "### Define the Transformer Code\n",
        "\n",
        "The definition of the transformer is based on the foundational paper [Attention is All you Need](https://papers.nips.cc/paper/2017/file/3f5ee243547dee91fbd053c1c4a845aa-Paper.pdf). The defined network has three parts:\n",
        "\n",
        "1. The embedding layer, which maps a sparse representation of source tokens into a dense one. The embeddings are further augmented with positional encodings to provide position information.\n",
        "2. The actual transformer model.\n",
        "3. A linear output layer providing un-normalized probabilities for each target language token."
      ]
    },
    {
      "cell_type": "code",
      "execution_count": 2,
      "metadata": {
        "colab": {
          "base_uri": "https://localhost:8080/"
        },
        "id": "TycMwN9PG4Vz",
        "outputId": "0033e7a8-6de4-475c-e5b1-4b49d8ca7429"
      },
      "outputs": [
        {
          "output_type": "stream",
          "name": "stdout",
          "text": [
            "cuda\n"
          ]
        }
      ],
      "source": [
        "from torch import Tensor\n",
        "import torch\n",
        "import torch.nn as nn\n",
        "from torch.nn import Transformer\n",
        "import math\n",
        "DEVICE = torch.device('cuda' if torch.cuda.is_available() else 'cpu')\n",
        "print(DEVICE)\n",
        "\n",
        "# helper Module that adds positional encoding to the token embedding to introduce a notion of word order.\n",
        "class PositionalEncoding(nn.Module):\n",
        "    def __init__(self,\n",
        "                 emb_size: int,\n",
        "                 dropout: float,\n",
        "                 maxlen: int = 5000):\n",
        "        super(PositionalEncoding, self).__init__()\n",
        "        den = torch.exp(- torch.arange(0, emb_size, 2)* math.log(10000) / emb_size)\n",
        "        pos = torch.arange(0, maxlen).reshape(maxlen, 1)\n",
        "        pos_embedding = torch.zeros((maxlen, emb_size))\n",
        "        pos_embedding[:, 0::2] = torch.sin(pos * den)\n",
        "        pos_embedding[:, 1::2] = torch.cos(pos * den)\n",
        "        pos_embedding = pos_embedding.unsqueeze(-2)\n",
        "\n",
        "        self.dropout = nn.Dropout(dropout)\n",
        "        self.register_buffer('pos_embedding', pos_embedding)\n",
        "\n",
        "    def forward(self, token_embedding: Tensor):\n",
        "        return self.dropout(token_embedding + self.pos_embedding[:token_embedding.size(0), :])\n",
        "\n",
        "# helper Module to convert tensor of input indices into corresponding tensor of token embeddings\n",
        "class TokenEmbedding(nn.Module):\n",
        "    def __init__(self, vocab_size: int, emb_size):\n",
        "        super(TokenEmbedding, self).__init__()\n",
        "        self.embedding = nn.Embedding(vocab_size, emb_size)\n",
        "        self.emb_size = emb_size\n",
        "\n",
        "    def forward(self, tokens: Tensor):\n",
        "        return self.embedding(tokens.long()) * math.sqrt(self.emb_size)\n",
        "\n",
        "# Seq2Seq Network\n",
        "class Seq2SeqTransformer(nn.Module):\n",
        "    def __init__(self,\n",
        "                 num_encoder_layers: int,\n",
        "                 num_decoder_layers: int,\n",
        "                 emb_size: int,\n",
        "                 nhead: int,\n",
        "                 src_vocab_size: int,\n",
        "                 tgt_vocab_size: int,\n",
        "                 dim_feedforward: int = 512,\n",
        "                 dropout: float = 0.1):\n",
        "        super(Seq2SeqTransformer, self).__init__()\n",
        "        self.transformer = Transformer(d_model=emb_size,\n",
        "                                       nhead=nhead,\n",
        "                                       num_encoder_layers=num_encoder_layers,\n",
        "                                       num_decoder_layers=num_decoder_layers,\n",
        "                                       dim_feedforward=dim_feedforward,\n",
        "                                       dropout=dropout)\n",
        "        self.generator = nn.Linear(emb_size, tgt_vocab_size)\n",
        "        self.src_tok_emb = TokenEmbedding(src_vocab_size, emb_size)\n",
        "        self.tgt_tok_emb = TokenEmbedding(tgt_vocab_size, emb_size)\n",
        "        self.positional_encoding = PositionalEncoding(\n",
        "            emb_size, dropout=dropout)\n",
        "\n",
        "    def forward(self,\n",
        "                src: Tensor,\n",
        "                trg: Tensor,\n",
        "                src_mask: Tensor,\n",
        "                tgt_mask: Tensor,\n",
        "                src_padding_mask: Tensor,\n",
        "                tgt_padding_mask: Tensor,\n",
        "                memory_key_padding_mask: Tensor):\n",
        "        src_emb = self.positional_encoding(self.src_tok_emb(src))\n",
        "        tgt_emb = self.positional_encoding(self.tgt_tok_emb(trg))\n",
        "        outs = self.transformer(src_emb, tgt_emb, src_mask, tgt_mask, None,\n",
        "                                src_padding_mask, tgt_padding_mask, memory_key_padding_mask)\n",
        "        return self.generator(outs)\n",
        "\n",
        "    def encode(self, src: Tensor, src_mask: Tensor):\n",
        "        return self.transformer.encoder(self.positional_encoding(\n",
        "                            self.src_tok_emb(src)), src_mask)\n",
        "\n",
        "    def decode(self, tgt: Tensor, memory: Tensor, tgt_mask: Tensor):\n",
        "        return self.transformer.decoder(self.positional_encoding(\n",
        "                          self.tgt_tok_emb(tgt)), memory,\n",
        "                          tgt_mask)"
      ]
    },
    {
      "cell_type": "markdown",
      "metadata": {
        "id": "N1gEYJrpG4V5"
      },
      "source": [
        "### Define Data Related Functions\n",
        "\n",
        "The following code defines different functions related to data handling, including:\n",
        "\n",
        "- A class to create a Pytorch dataset from parallel text files.\n",
        "- Functions related to word masking  that will prevent the model from looking into the future words when making predictions.\n",
        "- Functions to convert data samples into numerical vectors or *tensors* that will be manipulated inside the transformer model."
      ]
    },
    {
      "cell_type": "code",
      "execution_count": 3,
      "metadata": {
        "id": "l9XnRBTcG4V6"
      },
      "outputs": [],
      "source": [
        "from typing import Iterable, List\n",
        "\n",
        "class PlainTextParallelFilesDataset(torch.utils.data.Dataset):\n",
        "    def __init__(self, src_fname, trg_fname) -> None:\n",
        "        self.src_fname = src_fname\n",
        "        self.trg_fname = trg_fname\n",
        "        self.source = open(self.src_fname, encoding='utf-8').read().split('\\n')\n",
        "        self.target = open(self.trg_fname, encoding='utf-8').read().split('\\n')\n",
        "\n",
        "    def __getitem__(self, idx) -> torch.Tensor:\n",
        "        # load one sample by index, e.g like this:\n",
        "        source_sample = self.source[idx]\n",
        "        target_sample = self.target[idx]\n",
        "\n",
        "        return source_sample, target_sample\n",
        "\n",
        "    def __len__(self):\n",
        "        return len(self.source)\n",
        "\n",
        "    def get_source(self):\n",
        "        return self.source\n",
        "\n",
        "    def get_target(self):\n",
        "        return self.target\n",
        "\n",
        "def generate_square_subsequent_mask(sz):\n",
        "    mask = (torch.triu(torch.ones((sz, sz), device=DEVICE)) == 1).transpose(0, 1)\n",
        "    mask = mask.float().masked_fill(mask == 0, float('-inf')).masked_fill(mask == 1, float(0.0))\n",
        "    return mask\n",
        "\n",
        "def create_mask(src, tgt):\n",
        "    src_seq_len = src.shape[0]\n",
        "    tgt_seq_len = tgt.shape[0]\n",
        "\n",
        "    tgt_mask = generate_square_subsequent_mask(tgt_seq_len)\n",
        "    src_mask = torch.zeros((src_seq_len, src_seq_len),device=DEVICE).type(torch.bool)\n",
        "\n",
        "    src_padding_mask = (src == PAD_IDX).transpose(0, 1)\n",
        "    tgt_padding_mask = (tgt == PAD_IDX).transpose(0, 1)\n",
        "    return src_mask, tgt_mask, src_padding_mask, tgt_padding_mask\n",
        "\n",
        "from torch.nn.utils.rnn import pad_sequence\n",
        "\n",
        "# helper function to club together sequential operations\n",
        "def sequential_transforms(*transforms):\n",
        "    def func(txt_input):\n",
        "        for transform in transforms:\n",
        "            txt_input = transform(txt_input)\n",
        "        return txt_input\n",
        "    return func\n",
        "\n",
        "# function to add BOS/EOS and create tensor for input sequence indices\n",
        "def tensor_transform(token_ids: List[int]):\n",
        "    return torch.cat((torch.tensor([BOS_IDX]),\n",
        "                      torch.tensor(token_ids),\n",
        "                      torch.tensor([EOS_IDX])))\n",
        "\n",
        "# function to collate data samples into batch tensors\n",
        "def collate_fn(batch):\n",
        "    src_batch, tgt_batch = [], []\n",
        "    for src_sample, tgt_sample in batch:\n",
        "        src_batch.append(text_transform[SRC_LANGUAGE](src_sample.rstrip(\"\\n\")))\n",
        "        tgt_batch.append(text_transform[TGT_LANGUAGE](tgt_sample.rstrip(\"\\n\")))\n",
        "\n",
        "    src_batch = pad_sequence(src_batch, padding_value=PAD_IDX)\n",
        "    tgt_batch = pad_sequence(tgt_batch, padding_value=PAD_IDX)\n",
        "    return src_batch, tgt_batch"
      ]
    },
    {
      "cell_type": "markdown",
      "metadata": {
        "id": "q8UWPm7yG4V7"
      },
      "source": [
        "### Define Training, Loss Evaluation and Decoding Functions\n",
        "\n",
        "The following code defines functions useful to train and evaluate the model, and also to infer the translation of sentences that were not seen during the training stage (the translation process is also referred to as *decoding*).\n",
        "\n",
        "Training a deep neural network is a complex and sophisticated process that cannot be explained here in a detailed manner. An intuitive idea behind model training is that the internal weights (or parameters) of the network are adjusted so as to allow the model to generate the target translation contained in the training set for each sentence in the source language. When the model translates each source sentence, the generated translation may not be exactly equal to the one given as reference. The amount of difference between the generated outputs and the references is measured by means of a mathematical function called *loss function*. The resulting loss is used to adjust the weights of the network so that it can make better predictions in the future. Typically, we are interested in calculating the loss of the model, not only for the training set, but also for the validation set, so as to detect common machine learning problems such as model overfitting.\n",
        "\n",
        "The training process is structured as a series of *epochs*. During training, we say that an epoch was executed when every example in the training dataset has been used once to update the model parameters.\n",
        "\n",
        "Before starting the training process, the input text is preprocessed. The goal of preprocessing is to make the modelling process easier and more effective. One fundamental step of text preprocessing is *tokenization*. Tokenization, in its most basic definition consists in fragmenting the raw text to be translated into individual words or tokens, although it may involve additional and more complex operations. Typically, the tokenization process will separate punctuation symbols from words. For instance, the string `\"Hello World!\"` would be tokenized into the word vector `[\"Hello\", \"World\", \"!\"]`.\n",
        "\n",
        "Since the model works with tokenized data, its output is also going to be tokenized unless we apply a *detokenization* step. This step has been incorporated into the code of the `translate` function so as to enable the comparison of translation quality results between approaches. This is because the standard translation quality metric to be applied expects raw text as input (see more on this below)."
      ]
    },
    {
      "cell_type": "code",
      "execution_count": 4,
      "metadata": {
        "colab": {
          "base_uri": "https://localhost:8080/"
        },
        "id": "MkmyF0HWG4V7",
        "outputId": "548e6c2f-aa71-40f3-ad7f-8cccde67af90"
      },
      "outputs": [
        {
          "output_type": "stream",
          "name": "stdout",
          "text": [
            "Requirement already satisfied: mosestokenizer in /usr/local/lib/python3.10/dist-packages (1.2.1)\n",
            "Requirement already satisfied: sacremoses in /usr/local/lib/python3.10/dist-packages (0.1.1)\n",
            "Requirement already satisfied: docopt in /usr/local/lib/python3.10/dist-packages (from mosestokenizer) (0.6.2)\n",
            "Requirement already satisfied: openfile in /usr/local/lib/python3.10/dist-packages (from mosestokenizer) (0.0.7)\n",
            "Requirement already satisfied: uctools in /usr/local/lib/python3.10/dist-packages (from mosestokenizer) (1.3.0)\n",
            "Requirement already satisfied: toolwrapper in /usr/local/lib/python3.10/dist-packages (from mosestokenizer) (2.1.0)\n",
            "Requirement already satisfied: regex in /usr/local/lib/python3.10/dist-packages (from sacremoses) (2023.12.25)\n",
            "Requirement already satisfied: click in /usr/local/lib/python3.10/dist-packages (from sacremoses) (8.1.7)\n",
            "Requirement already satisfied: joblib in /usr/local/lib/python3.10/dist-packages (from sacremoses) (1.4.2)\n",
            "Requirement already satisfied: tqdm in /usr/local/lib/python3.10/dist-packages (from sacremoses) (4.66.4)\n"
          ]
        }
      ],
      "source": [
        "!pip install mosestokenizer sacremoses\n",
        "\n",
        "from mosestokenizer import MosesTokenizer, MosesDetokenizer\n",
        "from torch.utils.data import DataLoader\n",
        "\n",
        "def train_epoch(model, optimizer, train_iter, loss_fn):\n",
        "    model.train()\n",
        "    losses = 0\n",
        "    train_dataloader = DataLoader(train_iter, batch_size=BATCH_SIZE, collate_fn=collate_fn)\n",
        "\n",
        "    for src, tgt in train_dataloader:\n",
        "        src = src.to(DEVICE)\n",
        "        tgt = tgt.to(DEVICE)\n",
        "\n",
        "        tgt_input = tgt[:-1, :]\n",
        "\n",
        "        src_mask, tgt_mask, src_padding_mask, tgt_padding_mask = create_mask(src, tgt_input)\n",
        "\n",
        "        logits = model(src, tgt_input, src_mask, tgt_mask,src_padding_mask, tgt_padding_mask, src_padding_mask)\n",
        "\n",
        "        optimizer.zero_grad()\n",
        "\n",
        "        tgt_out = tgt[1:, :]\n",
        "        loss = loss_fn(logits.reshape(-1, logits.shape[-1]), tgt_out.reshape(-1))\n",
        "        loss.backward()\n",
        "\n",
        "        optimizer.step()\n",
        "        losses += loss.item()\n",
        "\n",
        "    return losses / len(list(train_dataloader))\n",
        "\n",
        "def evaluate_loss(model, val_iter, loss_fn):\n",
        "    model.eval()\n",
        "    losses = 0\n",
        "\n",
        "    val_dataloader = DataLoader(val_iter, batch_size=BATCH_SIZE, collate_fn=collate_fn)\n",
        "\n",
        "    for src, tgt in val_dataloader:\n",
        "        src = src.to(DEVICE)\n",
        "        tgt = tgt.to(DEVICE)\n",
        "\n",
        "        tgt_input = tgt[:-1, :]\n",
        "\n",
        "        src_mask, tgt_mask, src_padding_mask, tgt_padding_mask = create_mask(src, tgt_input)\n",
        "\n",
        "        logits = model(src, tgt_input, src_mask, tgt_mask,src_padding_mask, tgt_padding_mask, src_padding_mask)\n",
        "\n",
        "        tgt_out = tgt[1:, :]\n",
        "        loss = loss_fn(logits.reshape(-1, logits.shape[-1]), tgt_out.reshape(-1))\n",
        "        losses += loss.item()\n",
        "\n",
        "    return losses / len(list(val_dataloader))\n",
        "\n",
        "# function to generate output sequence using greedy algorithm\n",
        "def greedy_decode(model, src, src_mask, max_len, start_symbol):\n",
        "    src = src.to(DEVICE)\n",
        "    src_mask = src_mask.to(DEVICE)\n",
        "\n",
        "    memory = model.encode(src, src_mask)\n",
        "    ys = torch.ones(1, 1).fill_(start_symbol).type(torch.long).to(DEVICE)\n",
        "    for i in range(max_len-1):\n",
        "        memory = memory.to(DEVICE)\n",
        "        tgt_mask = (generate_square_subsequent_mask(ys.size(0))\n",
        "                    .type(torch.bool)).to(DEVICE)\n",
        "        out = model.decode(ys, memory, tgt_mask)\n",
        "        out = out.transpose(0, 1)\n",
        "        prob = model.generator(out[:, -1])\n",
        "        _, next_word = torch.max(prob, dim=1)\n",
        "        next_word = next_word.item()\n",
        "\n",
        "        ys = torch.cat([ys,\n",
        "                        torch.ones(1, 1).type_as(src.data).fill_(next_word)], dim=0)\n",
        "        if next_word == EOS_IDX:\n",
        "            break\n",
        "    return ys\n",
        "\n",
        "\n",
        "# actual function to translate input sentence into target language\n",
        "def translate(model: torch.nn.Module, src_sentence: str):\n",
        "    model.eval()\n",
        "    src = text_transform[SRC_LANGUAGE](src_sentence).view(-1, 1)\n",
        "    num_tokens = src.shape[0]\n",
        "    src_mask = (torch.zeros(num_tokens, num_tokens)).type(torch.bool)\n",
        "    tgt_tokens = greedy_decode(\n",
        "        model,  src, src_mask, max_len=num_tokens + 5, start_symbol=BOS_IDX).flatten()\n",
        "    word_list = vocab_transform[TGT_LANGUAGE].lookup_tokens(list(tgt_tokens.cpu().numpy()))\n",
        "    for sym in [\"<bos>\", \"<eos>\"]:\n",
        "      if sym in word_list:\n",
        "        word_list.remove(sym)\n",
        "    return MosesDetokenizer('TGT_LANGUAGE')(word_list)"
      ]
    },
    {
      "cell_type": "markdown",
      "metadata": {
        "id": "m7QAUskAKs-i"
      },
      "source": [
        "### Enable Metrics Computation\n",
        "\n",
        "A fundamental aspect of building a machine learning system is evaluating its performance. The evaluation can be manual or automatic. Typically, manual evaluation is expensive and subjective, since it requires the participation of human experts. On the other hand, automatic evaluation measures are cheap and objective, even if they are not able to capture information that a human expert evaluation would provide.\n",
        "\n",
        "One of the standard translation quality measures defined in the field of MT is the [BLEU score](https://aclanthology.org/P02-1040.pdf). Given a reference text and the text generated by a translation system, the BLEU score is a number between 0 and 1 which measures the translation quality, being 1 a perfect match. The BLEU score is sometimes expressed as a percentage.\n",
        "\n",
        "The BLEU score can be easily calculated by installing the `evaluate` package provided by the [Hugging Face library](https://huggingface.co/), which will also be used to work with pre-trained models. The `evaluate` package contains an advanced implementation of the BLEU score called `sacrebleu`. One important aspect of BLEU score calculation with `sacrebleu` is that the text should be provided in raw form, resulting in the necessity of incorporating a detokenization step for the translation system."
      ]
    },
    {
      "cell_type": "code",
      "execution_count": 5,
      "metadata": {
        "colab": {
          "base_uri": "https://localhost:8080/"
        },
        "id": "jnwyP0PpKxAS",
        "outputId": "f6700780-ce10-4466-dbd9-8f3653fe5df4"
      },
      "outputs": [
        {
          "output_type": "stream",
          "name": "stdout",
          "text": [
            "Requirement already satisfied: evaluate in /usr/local/lib/python3.10/dist-packages (0.4.2)\n",
            "Requirement already satisfied: sacrebleu in /usr/local/lib/python3.10/dist-packages (2.4.2)\n",
            "Requirement already satisfied: datasets>=2.0.0 in /usr/local/lib/python3.10/dist-packages (from evaluate) (2.19.1)\n",
            "Requirement already satisfied: numpy>=1.17 in /usr/local/lib/python3.10/dist-packages (from evaluate) (1.25.2)\n",
            "Requirement already satisfied: dill in /usr/local/lib/python3.10/dist-packages (from evaluate) (0.3.8)\n",
            "Requirement already satisfied: pandas in /usr/local/lib/python3.10/dist-packages (from evaluate) (2.0.3)\n",
            "Requirement already satisfied: requests>=2.19.0 in /usr/local/lib/python3.10/dist-packages (from evaluate) (2.31.0)\n",
            "Requirement already satisfied: tqdm>=4.62.1 in /usr/local/lib/python3.10/dist-packages (from evaluate) (4.66.4)\n",
            "Requirement already satisfied: xxhash in /usr/local/lib/python3.10/dist-packages (from evaluate) (3.4.1)\n",
            "Requirement already satisfied: multiprocess in /usr/local/lib/python3.10/dist-packages (from evaluate) (0.70.16)\n",
            "Requirement already satisfied: fsspec[http]>=2021.05.0 in /usr/local/lib/python3.10/dist-packages (from evaluate) (2023.6.0)\n",
            "Requirement already satisfied: huggingface-hub>=0.7.0 in /usr/local/lib/python3.10/dist-packages (from evaluate) (0.23.0)\n",
            "Requirement already satisfied: packaging in /usr/local/lib/python3.10/dist-packages (from evaluate) (24.0)\n",
            "Requirement already satisfied: portalocker in /usr/local/lib/python3.10/dist-packages (from sacrebleu) (2.8.2)\n",
            "Requirement already satisfied: regex in /usr/local/lib/python3.10/dist-packages (from sacrebleu) (2023.12.25)\n",
            "Requirement already satisfied: tabulate>=0.8.9 in /usr/local/lib/python3.10/dist-packages (from sacrebleu) (0.9.0)\n",
            "Requirement already satisfied: colorama in /usr/local/lib/python3.10/dist-packages (from sacrebleu) (0.4.6)\n",
            "Requirement already satisfied: lxml in /usr/local/lib/python3.10/dist-packages (from sacrebleu) (4.9.4)\n",
            "Requirement already satisfied: filelock in /usr/local/lib/python3.10/dist-packages (from datasets>=2.0.0->evaluate) (3.14.0)\n",
            "Requirement already satisfied: pyarrow>=12.0.0 in /usr/local/lib/python3.10/dist-packages (from datasets>=2.0.0->evaluate) (14.0.2)\n",
            "Requirement already satisfied: pyarrow-hotfix in /usr/local/lib/python3.10/dist-packages (from datasets>=2.0.0->evaluate) (0.6)\n",
            "Requirement already satisfied: aiohttp in /usr/local/lib/python3.10/dist-packages (from datasets>=2.0.0->evaluate) (3.9.5)\n",
            "Requirement already satisfied: pyyaml>=5.1 in /usr/local/lib/python3.10/dist-packages (from datasets>=2.0.0->evaluate) (6.0.1)\n",
            "Requirement already satisfied: typing-extensions>=3.7.4.3 in /usr/local/lib/python3.10/dist-packages (from huggingface-hub>=0.7.0->evaluate) (4.11.0)\n",
            "Requirement already satisfied: charset-normalizer<4,>=2 in /usr/local/lib/python3.10/dist-packages (from requests>=2.19.0->evaluate) (3.3.2)\n",
            "Requirement already satisfied: idna<4,>=2.5 in /usr/local/lib/python3.10/dist-packages (from requests>=2.19.0->evaluate) (3.7)\n",
            "Requirement already satisfied: urllib3<3,>=1.21.1 in /usr/local/lib/python3.10/dist-packages (from requests>=2.19.0->evaluate) (2.0.7)\n",
            "Requirement already satisfied: certifi>=2017.4.17 in /usr/local/lib/python3.10/dist-packages (from requests>=2.19.0->evaluate) (2024.2.2)\n",
            "Requirement already satisfied: python-dateutil>=2.8.2 in /usr/local/lib/python3.10/dist-packages (from pandas->evaluate) (2.8.2)\n",
            "Requirement already satisfied: pytz>=2020.1 in /usr/local/lib/python3.10/dist-packages (from pandas->evaluate) (2023.4)\n",
            "Requirement already satisfied: tzdata>=2022.1 in /usr/local/lib/python3.10/dist-packages (from pandas->evaluate) (2024.1)\n",
            "Requirement already satisfied: aiosignal>=1.1.2 in /usr/local/lib/python3.10/dist-packages (from aiohttp->datasets>=2.0.0->evaluate) (1.3.1)\n",
            "Requirement already satisfied: attrs>=17.3.0 in /usr/local/lib/python3.10/dist-packages (from aiohttp->datasets>=2.0.0->evaluate) (23.2.0)\n",
            "Requirement already satisfied: frozenlist>=1.1.1 in /usr/local/lib/python3.10/dist-packages (from aiohttp->datasets>=2.0.0->evaluate) (1.4.1)\n",
            "Requirement already satisfied: multidict<7.0,>=4.5 in /usr/local/lib/python3.10/dist-packages (from aiohttp->datasets>=2.0.0->evaluate) (6.0.5)\n",
            "Requirement already satisfied: yarl<2.0,>=1.0 in /usr/local/lib/python3.10/dist-packages (from aiohttp->datasets>=2.0.0->evaluate) (1.9.4)\n",
            "Requirement already satisfied: async-timeout<5.0,>=4.0 in /usr/local/lib/python3.10/dist-packages (from aiohttp->datasets>=2.0.0->evaluate) (4.0.3)\n",
            "Requirement already satisfied: six>=1.5 in /usr/local/lib/python3.10/dist-packages (from python-dateutil>=2.8.2->pandas->evaluate) (1.16.0)\n"
          ]
        }
      ],
      "source": [
        "!pip install evaluate sacrebleu\n",
        "\n",
        "import numpy as np\n",
        "import evaluate\n",
        "\n",
        "metric = evaluate.load(\"sacrebleu\")"
      ]
    },
    {
      "cell_type": "markdown",
      "metadata": {
        "id": "19xrM6aFG4V8"
      },
      "source": [
        "### Prepare Data\n",
        "\n",
        "Before starting the training process, we need to load and preprocess data. For this purpose, a parallel dataset object is created for the training, validation and test sets that compose the EUTRANS-I translation task. In addition to this, each sentence to be processed by the model should be tokenized and the resulting words converted into numerical identifiers. Finally, special symbols (such as the begin-of-sentence or end-of-sentence symbols) are added to the vector of identifiers before transforming it into a tensor that can be manipulated inside the network.\n",
        "\n",
        "On the other hand, it is important to stress out that the parallel files of the EUTRANS-I translation task are assumed to be stored in a Google Drive directory whose path should be provided in the code below. If the notebook is executed locally instead of using Google Colab, then the files should be handled in a different way and the code would require modifications accordingly."
      ]
    },
    {
      "cell_type": "code",
      "execution_count": 6,
      "metadata": {
        "colab": {
          "base_uri": "https://localhost:8080/"
        },
        "id": "ldGyEa81G4V9",
        "outputId": "a60aa011-48a5-4cc9-f2ef-f287fdd63976"
      },
      "outputs": [
        {
          "output_type": "stream",
          "name": "stdout",
          "text": [
            "Drive already mounted at /content/drive; to attempt to forcibly remount, call drive.mount(\"/content/drive\", force_remount=True).\n"
          ]
        }
      ],
      "source": [
        "from torchtext.data.utils import get_tokenizer\n",
        "from torchtext.vocab import build_vocab_from_iterator\n",
        "from google.colab import drive\n",
        "drive.mount('/content/drive')\n",
        "\n",
        "# Set variables\n",
        "SRC_LANGUAGE = 'es'\n",
        "TGT_LANGUAGE = 'en'\n",
        "\n",
        "# Place-holders\n",
        "token_transform = {}\n",
        "vocab_transform = {}\n",
        "\n",
        "# Create source and target language tokenizer. Make sure to install the dependencies.\n",
        "# https://pytorch.org/text/stable/data_utils.html\n",
        "token_transform[SRC_LANGUAGE] = get_tokenizer(\"moses\")\n",
        "token_transform[TGT_LANGUAGE] = get_tokenizer(\"moses\")\n",
        "\n",
        "# helper function to yield list of tokens\n",
        "def yield_tokens(data_iter: Iterable, language: str) -> List[str]:\n",
        "    language_index = {SRC_LANGUAGE: 0, TGT_LANGUAGE: 1}\n",
        "\n",
        "    for data_sample in data_iter:\n",
        "        yield token_transform[language](data_sample[language_index[language]])\n",
        "\n",
        "# Define special symbols and indices\n",
        "UNK_IDX, PAD_IDX, BOS_IDX, EOS_IDX = 0, 1, 2, 3\n",
        "# Make sure the tokens are in order of their indices to properly insert them in vocab\n",
        "special_symbols = ['<unk>', '<pad>', '<bos>', '<eos>']\n",
        "\n",
        "# Data iterators\n",
        "# NOTE: EDIT THE CONTENT OF THE \"datadir\" VARIABLE TO POINT TO THE GOOGLE DRIVE\n",
        "#       DIRECTORY WHERE YOU HAVE COPIED YOUR FILES. IT CAN BE INTERESTING TO\n",
        "#       START USING THE SMALL VERSION OF THE DATASET AND AFTER FINISHING THE\n",
        "#       EXPERIMENTS REPEAT THEM WITH THE LARGER VERSION\n",
        "#datadir = \"/content/drive/MyDrive/Colab Notebooks/ub_nlp_nnlm/data/\"\n",
        "datadir = \"/content/drive/MyDrive/data_small/\"\n",
        "train_iter = PlainTextParallelFilesDataset(datadir + \"es.train\", datadir + \"en.train\")\n",
        "val_iter = PlainTextParallelFilesDataset(datadir + \"es.valid\", datadir + \"en.valid\")\n",
        "test_iter = PlainTextParallelFilesDataset(datadir + \"es.test\", datadir + \"en.test\")\n",
        "\n",
        "for ln in [SRC_LANGUAGE, TGT_LANGUAGE]:\n",
        "    # Create torchtext's Vocab object\n",
        "    vocab_transform[ln] = build_vocab_from_iterator(yield_tokens(train_iter, ln),\n",
        "                                                    min_freq=1,\n",
        "                                                    specials=special_symbols,\n",
        "                                                    special_first=True)\n",
        "    vocab_transform[ln].set_default_index(vocab_transform[ln]['<unk>'])\n",
        "\n",
        "# src and tgt language text transforms to convert raw strings into tensors indices\n",
        "# NOTE: sequential_transforms is a composition of functions that is stored in\n",
        "#       text_transform. text_transform is later used in collate function\n",
        "text_transform = {}\n",
        "for ln in [SRC_LANGUAGE, TGT_LANGUAGE]:\n",
        "    text_transform[ln] = sequential_transforms(token_transform[ln], # Tokenization\n",
        "                                               vocab_transform[ln], # Numericalization\n",
        "                                               tensor_transform) # Add BOS/EOS and create tensor"
      ]
    },
    {
      "cell_type": "markdown",
      "metadata": {
        "id": "DKY67kU_G4V-"
      },
      "source": [
        "### Instantiate Model\n",
        "\n",
        "The code below instantiates a `Seq2SeqTransformer` object."
      ]
    },
    {
      "cell_type": "code",
      "execution_count": 7,
      "metadata": {
        "colab": {
          "base_uri": "https://localhost:8080/"
        },
        "id": "4yJ81KyEG4V_",
        "outputId": "cdc12e13-fd01-44e8-dee2-adbe06bcb664"
      },
      "outputs": [
        {
          "output_type": "stream",
          "name": "stderr",
          "text": [
            "/usr/local/lib/python3.10/dist-packages/torch/nn/modules/transformer.py:286: UserWarning: enable_nested_tensor is True, but self.use_nested_tensor is False because encoder_layer.self_attn.batch_first was not True(use batch_first for better inference performance)\n",
            "  warnings.warn(f\"enable_nested_tensor is True, but self.use_nested_tensor is False because {why_not_sparsity_fast_path}\")\n"
          ]
        }
      ],
      "source": [
        "torch.manual_seed(0)\n",
        "\n",
        "SRC_VOCAB_SIZE = len(vocab_transform[SRC_LANGUAGE])\n",
        "TGT_VOCAB_SIZE = len(vocab_transform[TGT_LANGUAGE])\n",
        "EMB_SIZE = 512\n",
        "NHEAD = 8\n",
        "FFN_HID_DIM = 512\n",
        "BATCH_SIZE = 128\n",
        "NUM_ENCODER_LAYERS = 3\n",
        "NUM_DECODER_LAYERS = 3\n",
        "\n",
        "transformer = Seq2SeqTransformer(NUM_ENCODER_LAYERS, NUM_DECODER_LAYERS, EMB_SIZE,\n",
        "                                 NHEAD, SRC_VOCAB_SIZE, TGT_VOCAB_SIZE, FFN_HID_DIM)\n",
        "\n",
        "for p in transformer.parameters():\n",
        "    if p.dim() > 1:\n",
        "        nn.init.xavier_uniform_(p)\n",
        "\n",
        "transformer = transformer.to(DEVICE)\n",
        "\n",
        "loss_fn = torch.nn.CrossEntropyLoss(ignore_index=PAD_IDX)\n",
        "\n",
        "optimizer = torch.optim.Adam(transformer.parameters(), lr=0.0001, betas=(0.9, 0.98), eps=1e-9)"
      ]
    },
    {
      "cell_type": "markdown",
      "metadata": {
        "id": "MckGbBuAG4V_"
      },
      "source": [
        "### Train Model\n",
        "\n",
        "At this point, everything is ready to start training the model by completing a series of epochs. After each epoch is completed, the loss of the training and validation sets is reported."
      ]
    },
    {
      "cell_type": "code",
      "execution_count": 8,
      "metadata": {
        "colab": {
          "base_uri": "https://localhost:8080/"
        },
        "id": "O4XAGXqaG4WA",
        "outputId": "196b1a7a-97ac-40f1-baf1-336b5b83dc30"
      },
      "outputs": [
        {
          "output_type": "stream",
          "name": "stderr",
          "text": [
            "/usr/local/lib/python3.10/dist-packages/torch/nn/functional.py:5109: UserWarning: Support for mismatched key_padding_mask and attn_mask is deprecated. Use same type for both instead.\n",
            "  warnings.warn(\n"
          ]
        },
        {
          "output_type": "stream",
          "name": "stdout",
          "text": [
            "Epoch: 1, Train loss: 4.652, Val loss: 3.628, Epoch time = 4.933s\n",
            "Epoch: 2, Train loss: 3.165, Val loss: 2.398, Epoch time = 5.444s\n",
            "Epoch: 3, Train loss: 2.250, Val loss: 1.706, Epoch time = 3.991s\n",
            "Epoch: 4, Train loss: 1.682, Val loss: 1.319, Epoch time = 4.226s\n",
            "Epoch: 5, Train loss: 1.317, Val loss: 1.086, Epoch time = 4.624s\n"
          ]
        }
      ],
      "source": [
        "from timeit import default_timer as timer\n",
        "NUM_EPOCHS = 5\n",
        "\n",
        "for epoch in range(1, NUM_EPOCHS+1):\n",
        "    start_time = timer()\n",
        "    train_loss = train_epoch(transformer, optimizer, train_iter, loss_fn)\n",
        "    end_time = timer()\n",
        "    val_loss = evaluate_loss(transformer, val_iter, loss_fn)\n",
        "    print((f\"Epoch: {epoch}, Train loss: {train_loss:.3f}, Val loss: {val_loss:.3f}, \"f\"Epoch time = {(end_time - start_time):.3f}s\"))"
      ]
    },
    {
      "cell_type": "markdown",
      "metadata": {
        "id": "acB_L9VbG4WA"
      },
      "source": [
        "### Generate Sample Translations\n",
        "\n",
        "After training the model, we are ready to use it for generating some translations. To do this we only need to call the `translate` function."
      ]
    },
    {
      "cell_type": "code",
      "execution_count": 9,
      "metadata": {
        "colab": {
          "base_uri": "https://localhost:8080/"
        },
        "id": "grFoeHWbG4WA",
        "outputId": "6c474d56-d2ce-42e6-ea06-74779be45067"
      },
      "outputs": [
        {
          "output_type": "stream",
          "name": "stdout",
          "text": [
            "I would like to to book a room with a telephone, please.\n",
            "I would like to a room with a telephone, please.\n",
            "I should leave on the keys to the keys to the room number three.\n"
          ]
        }
      ],
      "source": [
        "print(translate(transformer, \"me gustaría cambiarme a otra habitación con teléfono, por favor.\"))\n",
        "print(translate(transformer, \"Me agradaría cambiarme a otra habitación con teléfono, por favor.\"))\n",
        "print(translate(transformer, \"Esto es un ejemplo de frase que no pertenece al contexto del lenguaje usado en el mostrador de un hotel.\"))"
      ]
    },
    {
      "cell_type": "markdown",
      "metadata": {
        "id": "rLXF8Bxup7zq"
      },
      "source": [
        "### Compute Metrics for Test Set (**Exercise**)\n",
        "\n",
        "Finally, we calculate the BLEU score when translating the EUTRANS-I test set with the trained transformer model. Completing this code is left as an exercise. Consult the documentation about BLEU score computation [here](https://huggingface.co/spaces/evaluate-metric/bleu) if necessary."
      ]
    },
    {
      "cell_type": "code",
      "execution_count": 10,
      "metadata": {
        "id": "GC3YMW3fp8Tl",
        "colab": {
          "base_uri": "https://localhost:8080/"
        },
        "outputId": "6507e305-aa14-426a-eac9-80ff47a16d64"
      },
      "outputs": [
        {
          "output_type": "stream",
          "name": "stdout",
          "text": [
            "Source: nos hemos de ir el domingo once.\n",
            "Translation: we should leave on the evening.\n",
            "\n",
            "Source: baje mi equipaje a la habitación cero ocho ocho.\n",
            "Translation: I would like you to send up my room number eight.\n",
            "\n",
            "Source: una habitación que tenga teléfono, ducha y vistas a la montaña.\n",
            "Translation: I want a room with a telephone and a telephone and a telephone and a telephone and a telephone\n",
            "\n",
            "Source: pienso que hay un error en mi cuenta.\n",
            "Translation: I think that there is an error in the bill.\n",
            "\n",
            "Source: he de marcharme hoy a las seis menos cuarto.\n",
            "Translation: I am leaving on at a quarter to the morning.\n",
            "\n",
            "BLEU score: 46.10862134868548\n"
          ]
        }
      ],
      "source": [
        "import random\n",
        "\n",
        "# Obtain translations for test set\n",
        "test_translations = []\n",
        "for src_sentence, _ in test_iter:\n",
        "    translation = translate(transformer, src_sentence)\n",
        "    test_translations.append((src_sentence, translation))\n",
        "\n",
        "# Show 5 random source/prediction pairs\n",
        "random_pairs = random.sample(test_translations, 5)\n",
        "for src_sentence, translation in random_pairs:\n",
        "    print(\"Source:\", src_sentence)\n",
        "    print(\"Translation:\", translation)\n",
        "    print()\n",
        "\n",
        "# Compute BLEU score\n",
        "from sacrebleu import corpus_bleu\n",
        "\n",
        "# Extract reference translations from test_iter\n",
        "references = [tgt_sentence for _, tgt_sentence in test_iter]\n",
        "\n",
        "# Extract generated translations\n",
        "hypotheses = [translation for _, translation in test_translations]\n",
        "\n",
        "# Compute BLEU score\n",
        "bleu = corpus_bleu(hypotheses, [references])\n",
        "print(\"BLEU score:\", bleu.score)"
      ]
    },
    {
      "cell_type": "markdown",
      "metadata": {
        "id": "60ebpxbbG4WB"
      },
      "source": [
        "## Translating with a Pre-Trained Model\n",
        "\n",
        "Instead of training a translation system from scratch, it is becoming more and more frequent to use the so-called *pre-trained* models. Pre-trained models are general machine learning models composed of a huge number of parameters which have been estimated on massive amounts of training data. This pre-training process is very costly in terms of computational resources and thus not affordable to regular machine learning practitioners. However, a pre-trained model can be downloaded by a regular user and utilized as a starting point to implement a machine learning system for a particular task using much less data and computational resources. This goal can be achieved by means of *transfer learning* techniques, and in particular *fine-tuning*. The term fine-tuning refers to the process of adapting the parameters of a pre-trained model to a particular task using a small, task-specific dataset.\n",
        "\n",
        "Despite the fact that pre-trained systems often are not intended to be applied directly, in this section we are going to use and evaluate a pre-trained model without fine-tuning for educational purposes (the final fine-tuning stage will be executed and evaluated separately at the end of this notebook).\n",
        "\n",
        "In a similar way to what happened with Pytorch or Tensorflow for deep learning, working with pre-trained models is now far easier by means of the tools provided by [Hugging Face](https://huggingface.co/), a company that develops open-source software libraries for natural language processing and other machine learning tasks, with a strong emphasis on providing pre-trained transformers.\n",
        "\n",
        "We start the work in this section by installing some Hugging Face packages useful to work with pre-trained models.\n",
        "\n",
        "The rest of the content is again an adapted version of official documentation, in this case provided by Hugging Face [here](https://huggingface.co/docs/transformers/tasks/translation). This documentation can be particularly useful to find more information about the different classes and functions that are going to be used below."
      ]
    },
    {
      "cell_type": "code",
      "execution_count": 11,
      "metadata": {
        "colab": {
          "base_uri": "https://localhost:8080/"
        },
        "id": "Tf1czle5G4WB",
        "outputId": "614bba2e-4451-4e3e-ac74-f0a8beb0212e"
      },
      "outputs": [
        {
          "output_type": "stream",
          "name": "stdout",
          "text": [
            "Requirement already satisfied: transformers in /usr/local/lib/python3.10/dist-packages (4.40.2)\n",
            "Requirement already satisfied: datasets in /usr/local/lib/python3.10/dist-packages (2.19.1)\n",
            "Requirement already satisfied: sentencepiece in /usr/local/lib/python3.10/dist-packages (0.1.99)\n",
            "Requirement already satisfied: accelerate in /usr/local/lib/python3.10/dist-packages (0.30.1)\n",
            "Requirement already satisfied: filelock in /usr/local/lib/python3.10/dist-packages (from transformers) (3.14.0)\n",
            "Requirement already satisfied: huggingface-hub<1.0,>=0.19.3 in /usr/local/lib/python3.10/dist-packages (from transformers) (0.23.0)\n",
            "Requirement already satisfied: numpy>=1.17 in /usr/local/lib/python3.10/dist-packages (from transformers) (1.25.2)\n",
            "Requirement already satisfied: packaging>=20.0 in /usr/local/lib/python3.10/dist-packages (from transformers) (24.0)\n",
            "Requirement already satisfied: pyyaml>=5.1 in /usr/local/lib/python3.10/dist-packages (from transformers) (6.0.1)\n",
            "Requirement already satisfied: regex!=2019.12.17 in /usr/local/lib/python3.10/dist-packages (from transformers) (2023.12.25)\n",
            "Requirement already satisfied: requests in /usr/local/lib/python3.10/dist-packages (from transformers) (2.31.0)\n",
            "Requirement already satisfied: tokenizers<0.20,>=0.19 in /usr/local/lib/python3.10/dist-packages (from transformers) (0.19.1)\n",
            "Requirement already satisfied: safetensors>=0.4.1 in /usr/local/lib/python3.10/dist-packages (from transformers) (0.4.3)\n",
            "Requirement already satisfied: tqdm>=4.27 in /usr/local/lib/python3.10/dist-packages (from transformers) (4.66.4)\n",
            "Requirement already satisfied: pyarrow>=12.0.0 in /usr/local/lib/python3.10/dist-packages (from datasets) (14.0.2)\n",
            "Requirement already satisfied: pyarrow-hotfix in /usr/local/lib/python3.10/dist-packages (from datasets) (0.6)\n",
            "Requirement already satisfied: dill<0.3.9,>=0.3.0 in /usr/local/lib/python3.10/dist-packages (from datasets) (0.3.8)\n",
            "Requirement already satisfied: pandas in /usr/local/lib/python3.10/dist-packages (from datasets) (2.0.3)\n",
            "Requirement already satisfied: xxhash in /usr/local/lib/python3.10/dist-packages (from datasets) (3.4.1)\n",
            "Requirement already satisfied: multiprocess in /usr/local/lib/python3.10/dist-packages (from datasets) (0.70.16)\n",
            "Requirement already satisfied: fsspec[http]<=2024.3.1,>=2023.1.0 in /usr/local/lib/python3.10/dist-packages (from datasets) (2023.6.0)\n",
            "Requirement already satisfied: aiohttp in /usr/local/lib/python3.10/dist-packages (from datasets) (3.9.5)\n",
            "Requirement already satisfied: psutil in /usr/local/lib/python3.10/dist-packages (from accelerate) (5.9.5)\n",
            "Requirement already satisfied: torch>=1.10.0 in /usr/local/lib/python3.10/dist-packages (from accelerate) (2.2.1+cu121)\n",
            "Requirement already satisfied: aiosignal>=1.1.2 in /usr/local/lib/python3.10/dist-packages (from aiohttp->datasets) (1.3.1)\n",
            "Requirement already satisfied: attrs>=17.3.0 in /usr/local/lib/python3.10/dist-packages (from aiohttp->datasets) (23.2.0)\n",
            "Requirement already satisfied: frozenlist>=1.1.1 in /usr/local/lib/python3.10/dist-packages (from aiohttp->datasets) (1.4.1)\n",
            "Requirement already satisfied: multidict<7.0,>=4.5 in /usr/local/lib/python3.10/dist-packages (from aiohttp->datasets) (6.0.5)\n",
            "Requirement already satisfied: yarl<2.0,>=1.0 in /usr/local/lib/python3.10/dist-packages (from aiohttp->datasets) (1.9.4)\n",
            "Requirement already satisfied: async-timeout<5.0,>=4.0 in /usr/local/lib/python3.10/dist-packages (from aiohttp->datasets) (4.0.3)\n",
            "Requirement already satisfied: typing-extensions>=3.7.4.3 in /usr/local/lib/python3.10/dist-packages (from huggingface-hub<1.0,>=0.19.3->transformers) (4.11.0)\n",
            "Requirement already satisfied: charset-normalizer<4,>=2 in /usr/local/lib/python3.10/dist-packages (from requests->transformers) (3.3.2)\n",
            "Requirement already satisfied: idna<4,>=2.5 in /usr/local/lib/python3.10/dist-packages (from requests->transformers) (3.7)\n",
            "Requirement already satisfied: urllib3<3,>=1.21.1 in /usr/local/lib/python3.10/dist-packages (from requests->transformers) (2.0.7)\n",
            "Requirement already satisfied: certifi>=2017.4.17 in /usr/local/lib/python3.10/dist-packages (from requests->transformers) (2024.2.2)\n",
            "Requirement already satisfied: sympy in /usr/local/lib/python3.10/dist-packages (from torch>=1.10.0->accelerate) (1.12)\n",
            "Requirement already satisfied: networkx in /usr/local/lib/python3.10/dist-packages (from torch>=1.10.0->accelerate) (3.3)\n",
            "Requirement already satisfied: jinja2 in /usr/local/lib/python3.10/dist-packages (from torch>=1.10.0->accelerate) (3.1.4)\n",
            "Requirement already satisfied: nvidia-cuda-nvrtc-cu12==12.1.105 in /usr/local/lib/python3.10/dist-packages (from torch>=1.10.0->accelerate) (12.1.105)\n",
            "Requirement already satisfied: nvidia-cuda-runtime-cu12==12.1.105 in /usr/local/lib/python3.10/dist-packages (from torch>=1.10.0->accelerate) (12.1.105)\n",
            "Requirement already satisfied: nvidia-cuda-cupti-cu12==12.1.105 in /usr/local/lib/python3.10/dist-packages (from torch>=1.10.0->accelerate) (12.1.105)\n",
            "Requirement already satisfied: nvidia-cudnn-cu12==8.9.2.26 in /usr/local/lib/python3.10/dist-packages (from torch>=1.10.0->accelerate) (8.9.2.26)\n",
            "Requirement already satisfied: nvidia-cublas-cu12==12.1.3.1 in /usr/local/lib/python3.10/dist-packages (from torch>=1.10.0->accelerate) (12.1.3.1)\n",
            "Requirement already satisfied: nvidia-cufft-cu12==11.0.2.54 in /usr/local/lib/python3.10/dist-packages (from torch>=1.10.0->accelerate) (11.0.2.54)\n",
            "Requirement already satisfied: nvidia-curand-cu12==10.3.2.106 in /usr/local/lib/python3.10/dist-packages (from torch>=1.10.0->accelerate) (10.3.2.106)\n",
            "Requirement already satisfied: nvidia-cusolver-cu12==11.4.5.107 in /usr/local/lib/python3.10/dist-packages (from torch>=1.10.0->accelerate) (11.4.5.107)\n",
            "Requirement already satisfied: nvidia-cusparse-cu12==12.1.0.106 in /usr/local/lib/python3.10/dist-packages (from torch>=1.10.0->accelerate) (12.1.0.106)\n",
            "Requirement already satisfied: nvidia-nccl-cu12==2.19.3 in /usr/local/lib/python3.10/dist-packages (from torch>=1.10.0->accelerate) (2.19.3)\n",
            "Requirement already satisfied: nvidia-nvtx-cu12==12.1.105 in /usr/local/lib/python3.10/dist-packages (from torch>=1.10.0->accelerate) (12.1.105)\n",
            "Requirement already satisfied: triton==2.2.0 in /usr/local/lib/python3.10/dist-packages (from torch>=1.10.0->accelerate) (2.2.0)\n",
            "Requirement already satisfied: nvidia-nvjitlink-cu12 in /usr/local/lib/python3.10/dist-packages (from nvidia-cusolver-cu12==11.4.5.107->torch>=1.10.0->accelerate) (12.4.127)\n",
            "Requirement already satisfied: python-dateutil>=2.8.2 in /usr/local/lib/python3.10/dist-packages (from pandas->datasets) (2.8.2)\n",
            "Requirement already satisfied: pytz>=2020.1 in /usr/local/lib/python3.10/dist-packages (from pandas->datasets) (2023.4)\n",
            "Requirement already satisfied: tzdata>=2022.1 in /usr/local/lib/python3.10/dist-packages (from pandas->datasets) (2024.1)\n",
            "Requirement already satisfied: six>=1.5 in /usr/local/lib/python3.10/dist-packages (from python-dateutil>=2.8.2->pandas->datasets) (1.16.0)\n",
            "Requirement already satisfied: MarkupSafe>=2.0 in /usr/local/lib/python3.10/dist-packages (from jinja2->torch>=1.10.0->accelerate) (2.1.5)\n",
            "Requirement already satisfied: mpmath>=0.19 in /usr/local/lib/python3.10/dist-packages (from sympy->torch>=1.10.0->accelerate) (1.3.0)\n"
          ]
        }
      ],
      "source": [
        "# Transformers installation\n",
        "!pip install transformers datasets sentencepiece accelerate"
      ]
    },
    {
      "cell_type": "markdown",
      "metadata": {
        "id": "C97_kM3iclQd"
      },
      "source": [
        "### Generate Datasets\n",
        "\n",
        "The first thing we will do is to load the EUTRANS-I files into Huggin Face `DataSet` objects. It is worthy of note that in addition to the training, validation and test parallel files, we now have an additional pair of files for fine-tuning (files with extension `finetun`). These files just contain a small subset of a few hundred sentences extracted from the training set (remember that the training set contains 10K sentence pairs). We will use this smaller training dataset to simulate a hypotetical scenario where we have limited training data to fine-tune the pre-trained model."
      ]
    },
    {
      "cell_type": "code",
      "execution_count": 12,
      "metadata": {
        "colab": {
          "base_uri": "https://localhost:8080/"
        },
        "id": "YlfSGKsccR36",
        "outputId": "571e85f7-8877-4598-8a12-2409b3f99e47"
      },
      "outputs": [
        {
          "output_type": "stream",
          "name": "stdout",
          "text": [
            "Drive already mounted at /content/drive; to attempt to forcibly remount, call drive.mount(\"/content/drive\", force_remount=True).\n"
          ]
        }
      ],
      "source": [
        "from datasets import Dataset, DatasetDict, load_dataset\n",
        "from google.colab import drive\n",
        "drive.mount('/content/drive')\n",
        "\n",
        "def gen_dict_from_parallel_files(srclang, trglang, src_fname, trg_fname):\n",
        "  # Load files into lists\n",
        "  srclist = open(src_fname, encoding='utf-8').read().split('\\n')\n",
        "  trglist = open(trg_fname, encoding='utf-8').read().split('\\n')\n",
        "  # Create dictionary\n",
        "  dpairs = {}\n",
        "  dpairs['id'] = []\n",
        "  dpairs['translation'] = []\n",
        "  id = 0\n",
        "  for src, trg in zip(srclist, trglist):\n",
        "    if src and trg:\n",
        "      dpairs['id'].append(id)\n",
        "      pair = {}\n",
        "      pair[srclang] = src\n",
        "      pair[trglang] = trg\n",
        "      dpairs['translation'].append(pair)\n",
        "      id += 1\n",
        "  # Return dictionary\n",
        "  return dpairs\n",
        "\n",
        "def gen_dsetdict_from_parallel_files(srclang, trglang, srcpref, trgpref):\n",
        "  # Generate dictionaries\n",
        "  train_dict = gen_dict_from_parallel_files(srclang, trglang, srcpref + \".train\", trgpref + \".train\")\n",
        "  finetun_dict = gen_dict_from_parallel_files(srclang, trglang, srcpref + \".finetun\", trgpref + \".finetun\")\n",
        "  valid_dict = gen_dict_from_parallel_files(srclang, trglang, srcpref + \".valid\", trgpref + \".valid\")\n",
        "  test_dict = gen_dict_from_parallel_files(srclang, trglang, srcpref + \".test\", trgpref + \".test\")\n",
        "  # Generate Dataset Dictionary\n",
        "  dset = DatasetDict()\n",
        "  dset[\"train\"] = Dataset.from_dict(train_dict)\n",
        "  dset[\"finetun\"] = Dataset.from_dict(finetun_dict)\n",
        "  dset[\"valid\"] = Dataset.from_dict(valid_dict)\n",
        "  dset[\"test\"] = Dataset.from_dict(test_dict)\n",
        "  return dset\n",
        "\n",
        "# Generate datasets\n",
        "SRC_LANGUAGE = 'es'\n",
        "TGT_LANGUAGE = 'en'\n",
        "# NOTE: EDIT THE CONTENT OF THE \"datadir\" VARIABLE TO POINT TO THE GOOGLE DRIVE\n",
        "#       DIRECTORY WHERE YOU HAVE COPIED YOUR FILES. IT CAN BE INTERESTING TO\n",
        "#       START USING THE SMALL VERSION OF THE DATASET AND AFTER FINISHING THE\n",
        "#       EXPERIMENTS REPEAT THEM WITH THE LARGER VERSION\n",
        "#datadir = \"/content/drive/MyDrive/Colab Notebooks/ub_nlp_nnlm/data/\"\n",
        "datadir = \"/content/drive/MyDrive/data_small/\"\n",
        "dset = gen_dsetdict_from_parallel_files(SRC_LANGUAGE, TGT_LANGUAGE, datadir + \"es\", datadir + \"en\")"
      ]
    },
    {
      "cell_type": "markdown",
      "metadata": {
        "id": "0I4bNxSmqweK"
      },
      "source": [
        "### Preprocess Datasets\n",
        "\n",
        "After creating the `DataSet` objects, we will tokenize the data. In Hugging Face, each pre-trained model may also incorporate a specific tokenization process.\n",
        "\n",
        "Since the tokenizer is linked to its pre-trained model, the first thing we should do is to decide which model we want to use. A particular model in Hugging Face can be identified by its *checkpoint*. More specifically, a checkpoint refers to a saved state of a trained deep learning model that contains the values of its weights and other important parameters. Checkpoints are created during the training process at certain intervals or after achieving a specific performance metric. These saved checkpoints can be used to resume training from where it was left off or to make predictions with the trained model, which is what we are about to do.\n",
        "\n",
        "When using the Hugging Face library, a checkpoint is represented by means of a string value. For this session, we have chosen a transformer model with checkpoint [Helsinki-NLP/opus-mt-es-en](https://huggingface.co/Helsinki-NLP/opus-mt-en-es). The tokenizer for this model can be instantiated by means of an `Autotokenizer` object for which we call the `from_pretrained` method."
      ]
    },
    {
      "cell_type": "code",
      "execution_count": 13,
      "metadata": {
        "colab": {
          "base_uri": "https://localhost:8080/",
          "height": 304,
          "referenced_widgets": [
            "426ad5b2bef74bfdb1beb6572a4793db",
            "26aba69c2f3a4cb783132b39eec132d8",
            "f0269c1ef9784822acab3bd5fb545f09",
            "c64adec401274428b7f9f20d83240ce6",
            "9227cdd2e7a241bbaf5dee4b9b2672b5",
            "466b33932ce0496e9d5c5baa99d2212d",
            "32c037970d3141c18771c62b82f07665",
            "52cc180a17ab4765926f74cac31160e3",
            "39210dbded614d07a2c574ed37256ef9",
            "3ae4dae3dca841279198873637be70ca",
            "ac092f93223f4d6b83f2aa93c1defeeb",
            "5925baededd245c58fc73cf76d91aabf",
            "255b63b497be4d0d95a2dbd6d242d561",
            "4ac784531376407d9c7428b91f66532f",
            "67c77133ef3d40fab033197bd950bbb7",
            "39dc963d63ff4d9290c7fe172d567394",
            "10b362f8dca44ce0ba9d620dcff682e0",
            "11f68756e90540e0b0275bd1864319fa",
            "3b701de8fb404f69bedda1cf841ca450",
            "b8f2671ad8cc4c2eaf8cc9ae02b1a108",
            "65944b94c075426fb14ad7a1ef346cd7",
            "9e75788bc2ea481db64b602a623cc1fd",
            "5c5ee02896b0475298642cf2c15325c6",
            "b6c21de922444e2987af842febaf2264",
            "3af699eee3514cbeb91c9f5026a9cbac",
            "c41044018e4b4c08a4f26af280dc9dea",
            "750438663fee4880b3b662287bcb913a",
            "c09aafba374c40688904474ec7ec654e",
            "451c7eaee86c4a4dbd77fae54e1ee93f",
            "dbe7708fbf71495d92331357bb87cc74",
            "6a8b666db2dc4748b54cd35ed1d9f74a",
            "fb85ebe87a4948a19430417d3304af33",
            "23e7159fe04b4bb19b08f3085f7601e0",
            "eed8a73c9cf948cdafb7f8762a9d7c5c",
            "5a5f3b898fdd4d10aff01a795275f159",
            "e77d95b119e141698d90e3dc12e767fc",
            "7732e354dd3c48248778b0a3a1c99792",
            "12ca0468b83c433ab0c95e631e448b62",
            "dbf233b5057946f4849eeeec057c69cf",
            "0dc3c8632b9f4ffdac016ef5ae685b20",
            "696ce48645a64e70a9ea28ffd851879d",
            "4ed290426e6346d4ad235723c045ea24",
            "101ccc5d16624a80aa9910859cb29e9b",
            "4532e572e1db42d8ba36fc957d9986e8"
          ]
        },
        "id": "FOTeGIe6q5kW",
        "outputId": "5c95962e-38e2-455a-934a-6790e2d32aca"
      },
      "outputs": [
        {
          "output_type": "stream",
          "name": "stderr",
          "text": [
            "/usr/local/lib/python3.10/dist-packages/huggingface_hub/file_download.py:1132: FutureWarning: `resume_download` is deprecated and will be removed in version 1.0.0. Downloads always resume when possible. If you want to force a new download, use `force_download=True`.\n",
            "  warnings.warn(\n",
            "/usr/local/lib/python3.10/dist-packages/huggingface_hub/utils/_token.py:89: UserWarning: \n",
            "The secret `HF_TOKEN` does not exist in your Colab secrets.\n",
            "To authenticate with the Hugging Face Hub, create a token in your settings tab (https://huggingface.co/settings/tokens), set it as secret in your Google Colab and restart your session.\n",
            "You will be able to reuse this secret in all of your notebooks.\n",
            "Please note that authentication is recommended but still optional to access public models or datasets.\n",
            "  warnings.warn(\n"
          ]
        },
        {
          "output_type": "display_data",
          "data": {
            "text/plain": [
              "Map:   0%|          | 0/2000 [00:00<?, ? examples/s]"
            ],
            "application/vnd.jupyter.widget-view+json": {
              "version_major": 2,
              "version_minor": 0,
              "model_id": "426ad5b2bef74bfdb1beb6572a4793db"
            }
          },
          "metadata": {}
        },
        {
          "output_type": "display_data",
          "data": {
            "text/plain": [
              "Map:   0%|          | 0/300 [00:00<?, ? examples/s]"
            ],
            "application/vnd.jupyter.widget-view+json": {
              "version_major": 2,
              "version_minor": 0,
              "model_id": "5925baededd245c58fc73cf76d91aabf"
            }
          },
          "metadata": {}
        },
        {
          "output_type": "display_data",
          "data": {
            "text/plain": [
              "Map:   0%|          | 0/100 [00:00<?, ? examples/s]"
            ],
            "application/vnd.jupyter.widget-view+json": {
              "version_major": 2,
              "version_minor": 0,
              "model_id": "5c5ee02896b0475298642cf2c15325c6"
            }
          },
          "metadata": {}
        },
        {
          "output_type": "display_data",
          "data": {
            "text/plain": [
              "Map:   0%|          | 0/100 [00:00<?, ? examples/s]"
            ],
            "application/vnd.jupyter.widget-view+json": {
              "version_major": 2,
              "version_minor": 0,
              "model_id": "eed8a73c9cf948cdafb7f8762a9d7c5c"
            }
          },
          "metadata": {}
        }
      ],
      "source": [
        "from transformers import AutoTokenizer\n",
        "\n",
        "def extract_text(examples, lang):\n",
        "    return [example[lang] for example in examples[\"translation\"]]\n",
        "\n",
        "def extract_inputs_targets(examples, srclang, trglang):\n",
        "    inputs = extract_text(examples, srclang)\n",
        "    targets = extract_text(examples, trglang)\n",
        "    return inputs, targets\n",
        "\n",
        "def preprocess_function(examples, srclang, trglang):\n",
        "    inputs, targets = extract_inputs_targets(examples, srclang, trglang)\n",
        "    model_inputs = tokenizer(inputs, text_target=targets, max_length=128, truncation=True)\n",
        "    return model_inputs\n",
        "\n",
        "checkpoint = \"Helsinki-NLP/opus-mt-es-en\"\n",
        "tokenizer = AutoTokenizer.from_pretrained(checkpoint)\n",
        "tokenized_dset = dset.map(preprocess_function, batched=True, fn_kwargs={\"srclang\": SRC_LANGUAGE, \"trglang\": TGT_LANGUAGE})"
      ]
    },
    {
      "cell_type": "markdown",
      "metadata": {
        "id": "pQF4kVIZdLG-"
      },
      "source": [
        "### Generate Sample Translations\n",
        "\n",
        "At this point, we can start generating translations. For this purpose, we can use `pipeline` objects provided by the Hugging Face library. In Hugging Face, a `pipeline` object is a high-level interface for performing specific natural language processing tasks using pre-trained models.\n",
        "\n",
        "When creating a `pipeline` object, it is necessary to specify the task to be performed, such as text classification, named entity recognition, or question answering. The `pipeline` object then automatically loads the appropriate pre-trained model and tokenizer, and applies them to the input text to perform the specified task. Optionally, we can specify a checkpoint to instantiate a `pipeline` object, which is what is done in the code below.\n",
        "\n",
        "Finally, in order to use the newly created `pipeline` object, we only need to call it with the input text as its argument. The pipeline object will then process such input text and return the output of the NLP task. The input text can be an individual string or a list of them."
      ]
    },
    {
      "cell_type": "code",
      "execution_count": 14,
      "metadata": {
        "colab": {
          "base_uri": "https://localhost:8080/"
        },
        "id": "NifKXwjOdOKX",
        "outputId": "1110b70f-4548-4197-9ed6-37fbb912a2e9"
      },
      "outputs": [
        {
          "output_type": "stream",
          "name": "stdout",
          "text": [
            "[{'translation_text': \"I'd like to change to another room with a phone, please.\"}]\n",
            "[{'translation_text': 'This is an example of a phrase that does not belong to the context of the language used at the hotel counter.'}]\n"
          ]
        }
      ],
      "source": [
        "from transformers import pipeline\n",
        "\n",
        "translator = pipeline(\"translation\", model=checkpoint)\n",
        "print(translator(\"me gustaría cambiarme a otra habitación con teléfono, por favor.\"))\n",
        "print(translator(\"Esto es un ejemplo de frase que no pertenece al contexto del lenguaje usado en el mostrador de un hotel.\"))"
      ]
    },
    {
      "cell_type": "markdown",
      "metadata": {
        "id": "6DIbk_T9kLzx"
      },
      "source": [
        "### Enable Metrics Computation\n",
        "\n",
        "We enable computation of the BLEU score here again, so as to allow independent execution of the code related to pre-trained models."
      ]
    },
    {
      "cell_type": "code",
      "execution_count": 15,
      "metadata": {
        "colab": {
          "base_uri": "https://localhost:8080/"
        },
        "id": "3SlDky91kNCI",
        "outputId": "eeced074-1ec0-4eaf-9aea-8168b59e896c"
      },
      "outputs": [
        {
          "output_type": "stream",
          "name": "stdout",
          "text": [
            "Requirement already satisfied: evaluate in /usr/local/lib/python3.10/dist-packages (0.4.2)\n",
            "Requirement already satisfied: sacrebleu in /usr/local/lib/python3.10/dist-packages (2.4.2)\n",
            "Requirement already satisfied: datasets>=2.0.0 in /usr/local/lib/python3.10/dist-packages (from evaluate) (2.19.1)\n",
            "Requirement already satisfied: numpy>=1.17 in /usr/local/lib/python3.10/dist-packages (from evaluate) (1.25.2)\n",
            "Requirement already satisfied: dill in /usr/local/lib/python3.10/dist-packages (from evaluate) (0.3.8)\n",
            "Requirement already satisfied: pandas in /usr/local/lib/python3.10/dist-packages (from evaluate) (2.0.3)\n",
            "Requirement already satisfied: requests>=2.19.0 in /usr/local/lib/python3.10/dist-packages (from evaluate) (2.31.0)\n",
            "Requirement already satisfied: tqdm>=4.62.1 in /usr/local/lib/python3.10/dist-packages (from evaluate) (4.66.4)\n",
            "Requirement already satisfied: xxhash in /usr/local/lib/python3.10/dist-packages (from evaluate) (3.4.1)\n",
            "Requirement already satisfied: multiprocess in /usr/local/lib/python3.10/dist-packages (from evaluate) (0.70.16)\n",
            "Requirement already satisfied: fsspec[http]>=2021.05.0 in /usr/local/lib/python3.10/dist-packages (from evaluate) (2023.6.0)\n",
            "Requirement already satisfied: huggingface-hub>=0.7.0 in /usr/local/lib/python3.10/dist-packages (from evaluate) (0.23.0)\n",
            "Requirement already satisfied: packaging in /usr/local/lib/python3.10/dist-packages (from evaluate) (24.0)\n",
            "Requirement already satisfied: portalocker in /usr/local/lib/python3.10/dist-packages (from sacrebleu) (2.8.2)\n",
            "Requirement already satisfied: regex in /usr/local/lib/python3.10/dist-packages (from sacrebleu) (2023.12.25)\n",
            "Requirement already satisfied: tabulate>=0.8.9 in /usr/local/lib/python3.10/dist-packages (from sacrebleu) (0.9.0)\n",
            "Requirement already satisfied: colorama in /usr/local/lib/python3.10/dist-packages (from sacrebleu) (0.4.6)\n",
            "Requirement already satisfied: lxml in /usr/local/lib/python3.10/dist-packages (from sacrebleu) (4.9.4)\n",
            "Requirement already satisfied: filelock in /usr/local/lib/python3.10/dist-packages (from datasets>=2.0.0->evaluate) (3.14.0)\n",
            "Requirement already satisfied: pyarrow>=12.0.0 in /usr/local/lib/python3.10/dist-packages (from datasets>=2.0.0->evaluate) (14.0.2)\n",
            "Requirement already satisfied: pyarrow-hotfix in /usr/local/lib/python3.10/dist-packages (from datasets>=2.0.0->evaluate) (0.6)\n",
            "Requirement already satisfied: aiohttp in /usr/local/lib/python3.10/dist-packages (from datasets>=2.0.0->evaluate) (3.9.5)\n",
            "Requirement already satisfied: pyyaml>=5.1 in /usr/local/lib/python3.10/dist-packages (from datasets>=2.0.0->evaluate) (6.0.1)\n",
            "Requirement already satisfied: typing-extensions>=3.7.4.3 in /usr/local/lib/python3.10/dist-packages (from huggingface-hub>=0.7.0->evaluate) (4.11.0)\n",
            "Requirement already satisfied: charset-normalizer<4,>=2 in /usr/local/lib/python3.10/dist-packages (from requests>=2.19.0->evaluate) (3.3.2)\n",
            "Requirement already satisfied: idna<4,>=2.5 in /usr/local/lib/python3.10/dist-packages (from requests>=2.19.0->evaluate) (3.7)\n",
            "Requirement already satisfied: urllib3<3,>=1.21.1 in /usr/local/lib/python3.10/dist-packages (from requests>=2.19.0->evaluate) (2.0.7)\n",
            "Requirement already satisfied: certifi>=2017.4.17 in /usr/local/lib/python3.10/dist-packages (from requests>=2.19.0->evaluate) (2024.2.2)\n",
            "Requirement already satisfied: python-dateutil>=2.8.2 in /usr/local/lib/python3.10/dist-packages (from pandas->evaluate) (2.8.2)\n",
            "Requirement already satisfied: pytz>=2020.1 in /usr/local/lib/python3.10/dist-packages (from pandas->evaluate) (2023.4)\n",
            "Requirement already satisfied: tzdata>=2022.1 in /usr/local/lib/python3.10/dist-packages (from pandas->evaluate) (2024.1)\n",
            "Requirement already satisfied: aiosignal>=1.1.2 in /usr/local/lib/python3.10/dist-packages (from aiohttp->datasets>=2.0.0->evaluate) (1.3.1)\n",
            "Requirement already satisfied: attrs>=17.3.0 in /usr/local/lib/python3.10/dist-packages (from aiohttp->datasets>=2.0.0->evaluate) (23.2.0)\n",
            "Requirement already satisfied: frozenlist>=1.1.1 in /usr/local/lib/python3.10/dist-packages (from aiohttp->datasets>=2.0.0->evaluate) (1.4.1)\n",
            "Requirement already satisfied: multidict<7.0,>=4.5 in /usr/local/lib/python3.10/dist-packages (from aiohttp->datasets>=2.0.0->evaluate) (6.0.5)\n",
            "Requirement already satisfied: yarl<2.0,>=1.0 in /usr/local/lib/python3.10/dist-packages (from aiohttp->datasets>=2.0.0->evaluate) (1.9.4)\n",
            "Requirement already satisfied: async-timeout<5.0,>=4.0 in /usr/local/lib/python3.10/dist-packages (from aiohttp->datasets>=2.0.0->evaluate) (4.0.3)\n",
            "Requirement already satisfied: six>=1.5 in /usr/local/lib/python3.10/dist-packages (from python-dateutil>=2.8.2->pandas->evaluate) (1.16.0)\n"
          ]
        }
      ],
      "source": [
        "!pip install evaluate sacrebleu\n",
        "\n",
        "import numpy as np\n",
        "import evaluate\n",
        "\n",
        "metric = evaluate.load(\"sacrebleu\")"
      ]
    },
    {
      "cell_type": "markdown",
      "metadata": {
        "id": "LRPoHlswY6Jb"
      },
      "source": [
        "### Compute Metrics for Test Set (**Exercise**)\n",
        "\n",
        "To end this part of the session, we will compute translation quality metrics for the pre-trained system. For this purpose, we will make use again of a `pipeline` object, but now we are going to process the sentences contained in the test set. Again, completing this code is left as an exercise."
      ]
    },
    {
      "cell_type": "code",
      "execution_count": 16,
      "metadata": {
        "id": "XbzovAyQY9Q0",
        "colab": {
          "base_uri": "https://localhost:8080/"
        },
        "outputId": "7bff7c9d-64ee-479e-be2e-22953d8aeea3"
      },
      "outputs": [
        {
          "output_type": "stream",
          "name": "stdout",
          "text": [
            "Source: ¿nos podrían subir nuestras maletas a nuestra habitación, por favor?\n",
            "Translation: could you send our luggage to our room number three, please?\n",
            "\n",
            "Source: he de marcharme el lunes veintiséis.\n",
            "Translation: I should leave on the evening.\n",
            "\n",
            "Source: existe un error en mi cuenta de la habitación cuatro veintiuno.\n",
            "Translation: I think that there is a mistake in the bill for room number two.\n",
            "\n",
            "Source: mi nombre es Rafael Montero.\n",
            "Translation: I want you to my room.\n",
            "\n",
            "Source: por favor, quisiera que me despertasen mañana a las ocho menos cuarto.\n",
            "Translation: I would like you to wake me up tomorrow at a quarter to wake me, please.\n",
            "\n",
            "BLEU score: 46.10862134868548\n"
          ]
        }
      ],
      "source": [
        "import random\n",
        "\n",
        "# Obtain translations for test set\n",
        "test_translations = []\n",
        "for src_sentence, tgt_sentence in test_iter:\n",
        "    translation = translate(transformer, src_sentence)\n",
        "    test_translations.append((src_sentence, translation))\n",
        "\n",
        "# Show 5 random source/prediction pairs\n",
        "random_pairs = random.sample(test_translations, 5)\n",
        "for src_sentence, translation in random_pairs:\n",
        "    print(\"Source:\", src_sentence)\n",
        "    print(\"Translation:\", translation)\n",
        "    print()\n",
        "\n",
        "# Compute BLEU score\n",
        "from sacrebleu import corpus_bleu\n",
        "\n",
        "# Extract reference translations from test_iter\n",
        "references = [tgt_sentence for _, tgt_sentence in test_iter]\n",
        "\n",
        "# Extract generated translations\n",
        "hypotheses = [translation for _, translation in test_translations]\n",
        "\n",
        "# Compute BLEU score\n",
        "bleu = corpus_bleu(hypotheses, [references])\n",
        "print(\"BLEU score:\", bleu.score)"
      ]
    },
    {
      "cell_type": "markdown",
      "metadata": {
        "id": "B15UsyUXG4WC"
      },
      "source": [
        "## Translating with a Fine-Tuned Pre-Trained Model\n",
        "\n",
        "In the previous sections we have worked with a pre-trained model. In spite of the fact that the model generates correct translations, it is not prepared to generate text with the particular features of the text contained in the EUTRANS-I dataset.\n",
        "\n",
        "To solve this problem, we can use a small training set to fine-tune the model parameters of the pre-trained system. This fine-tuning strategy is very useful since it reduces the amount of training samples and computational power that are required to implement a translation system specific for a particular task, in contrast to the requirements of the approach adopted at the beginning of this notebook, based on training a transformer from scratch."
      ]
    },
    {
      "cell_type": "markdown",
      "metadata": {
        "id": "U0PCZja8cxK1"
      },
      "source": [
        "### Instantiate Model\n",
        "\n",
        "Before fine-tuning the model, we need to create a model instance. For this purpose we use a particular class derived from the `AutoModel` class (`AutoModelForSeq2SeqLM`). In Hugging Face, `AutoModel` is a class that enables users to automatically load any pre-trained model, without the need to specify the particular model name or architecture. Instead, what we need to specify is the checkpoint identifying the model of interest.\n",
        "\n",
        "Once the `AutoModel` object is instantiated, executing its `from_pretrained` method will automatically download the weights for the model, as well as the corresponding tokenizer and configuration."
      ]
    },
    {
      "cell_type": "code",
      "execution_count": 17,
      "metadata": {
        "id": "grz4D_HTc0Dt",
        "colab": {
          "base_uri": "https://localhost:8080/"
        },
        "outputId": "c1dfe350-30c9-4676-a1b3-2ec70f68fb97"
      },
      "outputs": [
        {
          "output_type": "stream",
          "name": "stderr",
          "text": [
            "/usr/local/lib/python3.10/dist-packages/huggingface_hub/file_download.py:1132: FutureWarning: `resume_download` is deprecated and will be removed in version 1.0.0. Downloads always resume when possible. If you want to force a new download, use `force_download=True`.\n",
            "  warnings.warn(\n"
          ]
        }
      ],
      "source": [
        "from transformers import AutoModelForSeq2SeqLM, Seq2SeqTrainingArguments, Seq2SeqTrainer\n",
        "\n",
        "checkpoint = \"Helsinki-NLP/opus-mt-es-en\"\n",
        "model = AutoModelForSeq2SeqLM.from_pretrained(checkpoint)\n",
        "# NOTE: By default, when calling the previous method, the model will use GPUs if available"
      ]
    },
    {
      "cell_type": "markdown",
      "metadata": {
        "id": "7e9Tfe6wouKx"
      },
      "source": [
        "### Fine-Tune Model\n",
        "\n",
        "The code below fine-tunes the pre-trained model we have used previously. The following three steps are executed:\n",
        "\n",
        "1. Define the training hyperparameters.\n",
        "2. Pass the training arguments (including the hyperparameters) to a `trainer` object.\n",
        "3. Call `train` method to fine-tune the model.\n",
        "\n",
        "The training process will be carried out over a partition specific for fine-tuning (files with `finetun` extension). After each epoch is executed, the loss for the validation set is computed."
      ]
    },
    {
      "cell_type": "code",
      "execution_count": 18,
      "metadata": {
        "colab": {
          "base_uri": "https://localhost:8080/",
          "height": 267
        },
        "id": "EAOFNC4jG4WC",
        "outputId": "4680e58c-336b-46ed-f24f-cc6775911154"
      },
      "outputs": [
        {
          "output_type": "display_data",
          "data": {
            "text/plain": [
              "<IPython.core.display.HTML object>"
            ],
            "text/html": [
              "\n",
              "    <div>\n",
              "      \n",
              "      <progress value='95' max='95' style='width:300px; height:20px; vertical-align: middle;'></progress>\n",
              "      [95/95 00:16, Epoch 5/5]\n",
              "    </div>\n",
              "    <table border=\"1\" class=\"dataframe\">\n",
              "  <thead>\n",
              " <tr style=\"text-align: left;\">\n",
              "      <th>Epoch</th>\n",
              "      <th>Training Loss</th>\n",
              "      <th>Validation Loss</th>\n",
              "    </tr>\n",
              "  </thead>\n",
              "  <tbody>\n",
              "    <tr>\n",
              "      <td>1</td>\n",
              "      <td>0.501100</td>\n",
              "      <td>0.490952</td>\n",
              "    </tr>\n",
              "    <tr>\n",
              "      <td>2</td>\n",
              "      <td>0.362600</td>\n",
              "      <td>0.309696</td>\n",
              "    </tr>\n",
              "    <tr>\n",
              "      <td>3</td>\n",
              "      <td>0.143900</td>\n",
              "      <td>0.238328</td>\n",
              "    </tr>\n",
              "    <tr>\n",
              "      <td>4</td>\n",
              "      <td>0.158900</td>\n",
              "      <td>0.206604</td>\n",
              "    </tr>\n",
              "    <tr>\n",
              "      <td>5</td>\n",
              "      <td>0.130900</td>\n",
              "      <td>0.197216</td>\n",
              "    </tr>\n",
              "  </tbody>\n",
              "</table><p>"
            ]
          },
          "metadata": {}
        },
        {
          "output_type": "execute_result",
          "data": {
            "text/plain": [
              "TrainOutput(global_step=95, training_loss=0.2873408111302476, metrics={'train_runtime': 16.5919, 'train_samples_per_second': 90.406, 'train_steps_per_second': 5.726, 'total_flos': 7597471039488.0, 'train_loss': 0.2873408111302476, 'epoch': 5.0})"
            ]
          },
          "metadata": {},
          "execution_count": 18
        }
      ],
      "source": [
        "from transformers import DataCollatorForSeq2Seq\n",
        "\n",
        "data_collator = DataCollatorForSeq2Seq(tokenizer=tokenizer, model=checkpoint)\n",
        "\n",
        "training_args = Seq2SeqTrainingArguments(\n",
        "    output_dir=\"my_fine_tuned_model\",\n",
        "    evaluation_strategy=\"epoch\",\n",
        "    learning_rate=2e-5,\n",
        "    per_device_train_batch_size=16,\n",
        "    per_device_eval_batch_size=16,\n",
        "    weight_decay=0.01,\n",
        "    save_total_limit=3,\n",
        "    num_train_epochs=5,\n",
        "    logging_steps = 1,\n",
        "    predict_with_generate=True,\n",
        "    fp16=False,\n",
        "    push_to_hub=False,\n",
        ")\n",
        "\n",
        "trainer = Seq2SeqTrainer(\n",
        "    model=model,\n",
        "    args=training_args,\n",
        "    train_dataset=tokenized_dset[\"finetun\"],\n",
        "    eval_dataset=tokenized_dset[\"test\"],\n",
        "    tokenizer=tokenizer,\n",
        "    data_collator=data_collator,\n",
        ")\n",
        "\n",
        "trainer.train()"
      ]
    },
    {
      "cell_type": "markdown",
      "metadata": {
        "id": "ZFjAD54ho-Zz"
      },
      "source": [
        "### Generate Sample Translations\n",
        "\n",
        "Now we can generate some example translations by means of a `pipeline` object defined for the fine-tuned model."
      ]
    },
    {
      "cell_type": "code",
      "execution_count": 19,
      "metadata": {
        "id": "tL_94BH_pBBr",
        "colab": {
          "base_uri": "https://localhost:8080/"
        },
        "outputId": "87d4532c-8c46-42ea-8fdb-adb7cd3e4073"
      },
      "outputs": [
        {
          "output_type": "stream",
          "name": "stdout",
          "text": [
            "[{'translation_text': 'I would like to move to another room with a telephone, please.'}]\n",
            "[{'translation_text': 'This is an example of a phrase that does not belong to the context of the language used at a hotel counter.'}]\n"
          ]
        }
      ],
      "source": [
        "from transformers import pipeline\n",
        "\n",
        "translator = pipeline(\"translation\", model=trainer.model.to('cpu'), tokenizer=trainer.tokenizer, device=-1) # To simplify execution, we ensure that the computations are carried out on CPU\n",
        "print(translator(\"me gustaría cambiarme a otra habitación con teléfono, por favor.\"))\n",
        "print(translator(\"Esto es un ejemplo de frase que no pertenece al contexto del lenguaje usado en el mostrador de un hotel.\"))"
      ]
    },
    {
      "cell_type": "markdown",
      "metadata": {
        "id": "7vS6YUupqFIp"
      },
      "source": [
        "### Compute Metrics for Test Set (**Exercise**)\n",
        "\n",
        "The last step to be executed is computing the BLEU score for the translations generated by the fine-tuned model for the EUTRANS-I test set. The step is left again as an exercise."
      ]
    },
    {
      "cell_type": "code",
      "execution_count": 22,
      "metadata": {
        "id": "KX_szZPMqFUB",
        "colab": {
          "base_uri": "https://localhost:8080/"
        },
        "outputId": "a2184c6e-c0f6-494d-9da7-923adeaa2cbe"
      },
      "outputs": [
        {
          "output_type": "stream",
          "name": "stdout",
          "text": [
            "Source: hemos de irnos el lunes a las diez y cuarto de la noche.\n",
            "Translation: we should leave on the keys to the afternoon.\n",
            "\n",
            "Source: ¿nos podría llamar a un taxi para la habitación ocho cero ocho?\n",
            "Translation: could you call a taxi for room number seven for us, please?\n",
            "\n",
            "Source: despiérteme mañana a las dos.\n",
            "Translation: wake us up tomorrow at half past.\n",
            "\n",
            "Source: por favor, querría que nos llevaran la maleta a la habitación cuatrocientos veintitrés.\n",
            "Translation: I would like you to give us the key to room number three, please.\n",
            "\n",
            "Source: por favor, hemos reservado una habitación con televisión y aire acondicionado.\n",
            "Translation: I have booked a room with a tv, please.\n",
            "\n",
            "BLEU score: 46.10862134868548\n"
          ]
        }
      ],
      "source": [
        "import random\n",
        "\n",
        "# Obtain translations for test set\n",
        "test_translations = []\n",
        "for src_sentence, tgt_sentence in test_iter:\n",
        "    translation = translate(transformer, src_sentence)\n",
        "    test_translations.append((src_sentence, translation))\n",
        "\n",
        "# Show 5 random source/prediction pairs\n",
        "random_pairs = random.sample(test_translations, 5)\n",
        "for src_sentence, translation in random_pairs:\n",
        "    print(\"Source:\", src_sentence)\n",
        "    print(\"Translation:\", translation)\n",
        "    print()\n",
        "\n",
        "# Compute BLEU score\n",
        "from sacrebleu import corpus_bleu\n",
        "\n",
        "# Extract reference translations from test_iter\n",
        "references = [tgt_sentence for _, tgt_sentence in test_iter]\n",
        "\n",
        "# Extract generated translations\n",
        "hypotheses = [translation for _, translation in test_translations]\n",
        "\n",
        "# Compute BLEU score\n",
        "bleu = corpus_bleu(hypotheses, [references])\n",
        "print(\"BLEU score:\", bleu.score)"
      ]
    },
    {
      "cell_type": "markdown",
      "metadata": {
        "id": "NbwIbsKS9LSj"
      },
      "source": [
        "## Optional Exercises\n",
        "\n",
        "To complement the results that have been obtained previously, it can be interesting to try the following:\n",
        "\n",
        "- Play with different number of training iterations and model hyperparameters.\n",
        "- Extract larger portions of the training set and use them as the fine-tune set in order to measure the impact in the test translation quality.\n"
      ]
    }
  ],
  "metadata": {
    "accelerator": "GPU",
    "colab": {
      "provenance": []
    },
    "gpuClass": "standard",
    "kernelspec": {
      "display_name": "Python 3",
      "name": "python3"
    },
    "language_info": {
      "codemirror_mode": {
        "name": "ipython",
        "version": 3
      },
      "file_extension": ".py",
      "mimetype": "text/x-python",
      "name": "python",
      "nbconvert_exporter": "python",
      "pygments_lexer": "ipython3",
      "version": "3.9.18"
    },
    "widgets": {
      "application/vnd.jupyter.widget-state+json": {
        "426ad5b2bef74bfdb1beb6572a4793db": {
          "model_module": "@jupyter-widgets/controls",
          "model_name": "HBoxModel",
          "model_module_version": "1.5.0",
          "state": {
            "_dom_classes": [],
            "_model_module": "@jupyter-widgets/controls",
            "_model_module_version": "1.5.0",
            "_model_name": "HBoxModel",
            "_view_count": null,
            "_view_module": "@jupyter-widgets/controls",
            "_view_module_version": "1.5.0",
            "_view_name": "HBoxView",
            "box_style": "",
            "children": [
              "IPY_MODEL_26aba69c2f3a4cb783132b39eec132d8",
              "IPY_MODEL_f0269c1ef9784822acab3bd5fb545f09",
              "IPY_MODEL_c64adec401274428b7f9f20d83240ce6"
            ],
            "layout": "IPY_MODEL_9227cdd2e7a241bbaf5dee4b9b2672b5"
          }
        },
        "26aba69c2f3a4cb783132b39eec132d8": {
          "model_module": "@jupyter-widgets/controls",
          "model_name": "HTMLModel",
          "model_module_version": "1.5.0",
          "state": {
            "_dom_classes": [],
            "_model_module": "@jupyter-widgets/controls",
            "_model_module_version": "1.5.0",
            "_model_name": "HTMLModel",
            "_view_count": null,
            "_view_module": "@jupyter-widgets/controls",
            "_view_module_version": "1.5.0",
            "_view_name": "HTMLView",
            "description": "",
            "description_tooltip": null,
            "layout": "IPY_MODEL_466b33932ce0496e9d5c5baa99d2212d",
            "placeholder": "​",
            "style": "IPY_MODEL_32c037970d3141c18771c62b82f07665",
            "value": "Map: 100%"
          }
        },
        "f0269c1ef9784822acab3bd5fb545f09": {
          "model_module": "@jupyter-widgets/controls",
          "model_name": "FloatProgressModel",
          "model_module_version": "1.5.0",
          "state": {
            "_dom_classes": [],
            "_model_module": "@jupyter-widgets/controls",
            "_model_module_version": "1.5.0",
            "_model_name": "FloatProgressModel",
            "_view_count": null,
            "_view_module": "@jupyter-widgets/controls",
            "_view_module_version": "1.5.0",
            "_view_name": "ProgressView",
            "bar_style": "success",
            "description": "",
            "description_tooltip": null,
            "layout": "IPY_MODEL_52cc180a17ab4765926f74cac31160e3",
            "max": 2000,
            "min": 0,
            "orientation": "horizontal",
            "style": "IPY_MODEL_39210dbded614d07a2c574ed37256ef9",
            "value": 2000
          }
        },
        "c64adec401274428b7f9f20d83240ce6": {
          "model_module": "@jupyter-widgets/controls",
          "model_name": "HTMLModel",
          "model_module_version": "1.5.0",
          "state": {
            "_dom_classes": [],
            "_model_module": "@jupyter-widgets/controls",
            "_model_module_version": "1.5.0",
            "_model_name": "HTMLModel",
            "_view_count": null,
            "_view_module": "@jupyter-widgets/controls",
            "_view_module_version": "1.5.0",
            "_view_name": "HTMLView",
            "description": "",
            "description_tooltip": null,
            "layout": "IPY_MODEL_3ae4dae3dca841279198873637be70ca",
            "placeholder": "​",
            "style": "IPY_MODEL_ac092f93223f4d6b83f2aa93c1defeeb",
            "value": " 2000/2000 [00:00&lt;00:00, 3971.63 examples/s]"
          }
        },
        "9227cdd2e7a241bbaf5dee4b9b2672b5": {
          "model_module": "@jupyter-widgets/base",
          "model_name": "LayoutModel",
          "model_module_version": "1.2.0",
          "state": {
            "_model_module": "@jupyter-widgets/base",
            "_model_module_version": "1.2.0",
            "_model_name": "LayoutModel",
            "_view_count": null,
            "_view_module": "@jupyter-widgets/base",
            "_view_module_version": "1.2.0",
            "_view_name": "LayoutView",
            "align_content": null,
            "align_items": null,
            "align_self": null,
            "border": null,
            "bottom": null,
            "display": null,
            "flex": null,
            "flex_flow": null,
            "grid_area": null,
            "grid_auto_columns": null,
            "grid_auto_flow": null,
            "grid_auto_rows": null,
            "grid_column": null,
            "grid_gap": null,
            "grid_row": null,
            "grid_template_areas": null,
            "grid_template_columns": null,
            "grid_template_rows": null,
            "height": null,
            "justify_content": null,
            "justify_items": null,
            "left": null,
            "margin": null,
            "max_height": null,
            "max_width": null,
            "min_height": null,
            "min_width": null,
            "object_fit": null,
            "object_position": null,
            "order": null,
            "overflow": null,
            "overflow_x": null,
            "overflow_y": null,
            "padding": null,
            "right": null,
            "top": null,
            "visibility": null,
            "width": null
          }
        },
        "466b33932ce0496e9d5c5baa99d2212d": {
          "model_module": "@jupyter-widgets/base",
          "model_name": "LayoutModel",
          "model_module_version": "1.2.0",
          "state": {
            "_model_module": "@jupyter-widgets/base",
            "_model_module_version": "1.2.0",
            "_model_name": "LayoutModel",
            "_view_count": null,
            "_view_module": "@jupyter-widgets/base",
            "_view_module_version": "1.2.0",
            "_view_name": "LayoutView",
            "align_content": null,
            "align_items": null,
            "align_self": null,
            "border": null,
            "bottom": null,
            "display": null,
            "flex": null,
            "flex_flow": null,
            "grid_area": null,
            "grid_auto_columns": null,
            "grid_auto_flow": null,
            "grid_auto_rows": null,
            "grid_column": null,
            "grid_gap": null,
            "grid_row": null,
            "grid_template_areas": null,
            "grid_template_columns": null,
            "grid_template_rows": null,
            "height": null,
            "justify_content": null,
            "justify_items": null,
            "left": null,
            "margin": null,
            "max_height": null,
            "max_width": null,
            "min_height": null,
            "min_width": null,
            "object_fit": null,
            "object_position": null,
            "order": null,
            "overflow": null,
            "overflow_x": null,
            "overflow_y": null,
            "padding": null,
            "right": null,
            "top": null,
            "visibility": null,
            "width": null
          }
        },
        "32c037970d3141c18771c62b82f07665": {
          "model_module": "@jupyter-widgets/controls",
          "model_name": "DescriptionStyleModel",
          "model_module_version": "1.5.0",
          "state": {
            "_model_module": "@jupyter-widgets/controls",
            "_model_module_version": "1.5.0",
            "_model_name": "DescriptionStyleModel",
            "_view_count": null,
            "_view_module": "@jupyter-widgets/base",
            "_view_module_version": "1.2.0",
            "_view_name": "StyleView",
            "description_width": ""
          }
        },
        "52cc180a17ab4765926f74cac31160e3": {
          "model_module": "@jupyter-widgets/base",
          "model_name": "LayoutModel",
          "model_module_version": "1.2.0",
          "state": {
            "_model_module": "@jupyter-widgets/base",
            "_model_module_version": "1.2.0",
            "_model_name": "LayoutModel",
            "_view_count": null,
            "_view_module": "@jupyter-widgets/base",
            "_view_module_version": "1.2.0",
            "_view_name": "LayoutView",
            "align_content": null,
            "align_items": null,
            "align_self": null,
            "border": null,
            "bottom": null,
            "display": null,
            "flex": null,
            "flex_flow": null,
            "grid_area": null,
            "grid_auto_columns": null,
            "grid_auto_flow": null,
            "grid_auto_rows": null,
            "grid_column": null,
            "grid_gap": null,
            "grid_row": null,
            "grid_template_areas": null,
            "grid_template_columns": null,
            "grid_template_rows": null,
            "height": null,
            "justify_content": null,
            "justify_items": null,
            "left": null,
            "margin": null,
            "max_height": null,
            "max_width": null,
            "min_height": null,
            "min_width": null,
            "object_fit": null,
            "object_position": null,
            "order": null,
            "overflow": null,
            "overflow_x": null,
            "overflow_y": null,
            "padding": null,
            "right": null,
            "top": null,
            "visibility": null,
            "width": null
          }
        },
        "39210dbded614d07a2c574ed37256ef9": {
          "model_module": "@jupyter-widgets/controls",
          "model_name": "ProgressStyleModel",
          "model_module_version": "1.5.0",
          "state": {
            "_model_module": "@jupyter-widgets/controls",
            "_model_module_version": "1.5.0",
            "_model_name": "ProgressStyleModel",
            "_view_count": null,
            "_view_module": "@jupyter-widgets/base",
            "_view_module_version": "1.2.0",
            "_view_name": "StyleView",
            "bar_color": null,
            "description_width": ""
          }
        },
        "3ae4dae3dca841279198873637be70ca": {
          "model_module": "@jupyter-widgets/base",
          "model_name": "LayoutModel",
          "model_module_version": "1.2.0",
          "state": {
            "_model_module": "@jupyter-widgets/base",
            "_model_module_version": "1.2.0",
            "_model_name": "LayoutModel",
            "_view_count": null,
            "_view_module": "@jupyter-widgets/base",
            "_view_module_version": "1.2.0",
            "_view_name": "LayoutView",
            "align_content": null,
            "align_items": null,
            "align_self": null,
            "border": null,
            "bottom": null,
            "display": null,
            "flex": null,
            "flex_flow": null,
            "grid_area": null,
            "grid_auto_columns": null,
            "grid_auto_flow": null,
            "grid_auto_rows": null,
            "grid_column": null,
            "grid_gap": null,
            "grid_row": null,
            "grid_template_areas": null,
            "grid_template_columns": null,
            "grid_template_rows": null,
            "height": null,
            "justify_content": null,
            "justify_items": null,
            "left": null,
            "margin": null,
            "max_height": null,
            "max_width": null,
            "min_height": null,
            "min_width": null,
            "object_fit": null,
            "object_position": null,
            "order": null,
            "overflow": null,
            "overflow_x": null,
            "overflow_y": null,
            "padding": null,
            "right": null,
            "top": null,
            "visibility": null,
            "width": null
          }
        },
        "ac092f93223f4d6b83f2aa93c1defeeb": {
          "model_module": "@jupyter-widgets/controls",
          "model_name": "DescriptionStyleModel",
          "model_module_version": "1.5.0",
          "state": {
            "_model_module": "@jupyter-widgets/controls",
            "_model_module_version": "1.5.0",
            "_model_name": "DescriptionStyleModel",
            "_view_count": null,
            "_view_module": "@jupyter-widgets/base",
            "_view_module_version": "1.2.0",
            "_view_name": "StyleView",
            "description_width": ""
          }
        },
        "5925baededd245c58fc73cf76d91aabf": {
          "model_module": "@jupyter-widgets/controls",
          "model_name": "HBoxModel",
          "model_module_version": "1.5.0",
          "state": {
            "_dom_classes": [],
            "_model_module": "@jupyter-widgets/controls",
            "_model_module_version": "1.5.0",
            "_model_name": "HBoxModel",
            "_view_count": null,
            "_view_module": "@jupyter-widgets/controls",
            "_view_module_version": "1.5.0",
            "_view_name": "HBoxView",
            "box_style": "",
            "children": [
              "IPY_MODEL_255b63b497be4d0d95a2dbd6d242d561",
              "IPY_MODEL_4ac784531376407d9c7428b91f66532f",
              "IPY_MODEL_67c77133ef3d40fab033197bd950bbb7"
            ],
            "layout": "IPY_MODEL_39dc963d63ff4d9290c7fe172d567394"
          }
        },
        "255b63b497be4d0d95a2dbd6d242d561": {
          "model_module": "@jupyter-widgets/controls",
          "model_name": "HTMLModel",
          "model_module_version": "1.5.0",
          "state": {
            "_dom_classes": [],
            "_model_module": "@jupyter-widgets/controls",
            "_model_module_version": "1.5.0",
            "_model_name": "HTMLModel",
            "_view_count": null,
            "_view_module": "@jupyter-widgets/controls",
            "_view_module_version": "1.5.0",
            "_view_name": "HTMLView",
            "description": "",
            "description_tooltip": null,
            "layout": "IPY_MODEL_10b362f8dca44ce0ba9d620dcff682e0",
            "placeholder": "​",
            "style": "IPY_MODEL_11f68756e90540e0b0275bd1864319fa",
            "value": "Map: 100%"
          }
        },
        "4ac784531376407d9c7428b91f66532f": {
          "model_module": "@jupyter-widgets/controls",
          "model_name": "FloatProgressModel",
          "model_module_version": "1.5.0",
          "state": {
            "_dom_classes": [],
            "_model_module": "@jupyter-widgets/controls",
            "_model_module_version": "1.5.0",
            "_model_name": "FloatProgressModel",
            "_view_count": null,
            "_view_module": "@jupyter-widgets/controls",
            "_view_module_version": "1.5.0",
            "_view_name": "ProgressView",
            "bar_style": "success",
            "description": "",
            "description_tooltip": null,
            "layout": "IPY_MODEL_3b701de8fb404f69bedda1cf841ca450",
            "max": 300,
            "min": 0,
            "orientation": "horizontal",
            "style": "IPY_MODEL_b8f2671ad8cc4c2eaf8cc9ae02b1a108",
            "value": 300
          }
        },
        "67c77133ef3d40fab033197bd950bbb7": {
          "model_module": "@jupyter-widgets/controls",
          "model_name": "HTMLModel",
          "model_module_version": "1.5.0",
          "state": {
            "_dom_classes": [],
            "_model_module": "@jupyter-widgets/controls",
            "_model_module_version": "1.5.0",
            "_model_name": "HTMLModel",
            "_view_count": null,
            "_view_module": "@jupyter-widgets/controls",
            "_view_module_version": "1.5.0",
            "_view_name": "HTMLView",
            "description": "",
            "description_tooltip": null,
            "layout": "IPY_MODEL_65944b94c075426fb14ad7a1ef346cd7",
            "placeholder": "​",
            "style": "IPY_MODEL_9e75788bc2ea481db64b602a623cc1fd",
            "value": " 300/300 [00:00&lt;00:00, 2252.31 examples/s]"
          }
        },
        "39dc963d63ff4d9290c7fe172d567394": {
          "model_module": "@jupyter-widgets/base",
          "model_name": "LayoutModel",
          "model_module_version": "1.2.0",
          "state": {
            "_model_module": "@jupyter-widgets/base",
            "_model_module_version": "1.2.0",
            "_model_name": "LayoutModel",
            "_view_count": null,
            "_view_module": "@jupyter-widgets/base",
            "_view_module_version": "1.2.0",
            "_view_name": "LayoutView",
            "align_content": null,
            "align_items": null,
            "align_self": null,
            "border": null,
            "bottom": null,
            "display": null,
            "flex": null,
            "flex_flow": null,
            "grid_area": null,
            "grid_auto_columns": null,
            "grid_auto_flow": null,
            "grid_auto_rows": null,
            "grid_column": null,
            "grid_gap": null,
            "grid_row": null,
            "grid_template_areas": null,
            "grid_template_columns": null,
            "grid_template_rows": null,
            "height": null,
            "justify_content": null,
            "justify_items": null,
            "left": null,
            "margin": null,
            "max_height": null,
            "max_width": null,
            "min_height": null,
            "min_width": null,
            "object_fit": null,
            "object_position": null,
            "order": null,
            "overflow": null,
            "overflow_x": null,
            "overflow_y": null,
            "padding": null,
            "right": null,
            "top": null,
            "visibility": null,
            "width": null
          }
        },
        "10b362f8dca44ce0ba9d620dcff682e0": {
          "model_module": "@jupyter-widgets/base",
          "model_name": "LayoutModel",
          "model_module_version": "1.2.0",
          "state": {
            "_model_module": "@jupyter-widgets/base",
            "_model_module_version": "1.2.0",
            "_model_name": "LayoutModel",
            "_view_count": null,
            "_view_module": "@jupyter-widgets/base",
            "_view_module_version": "1.2.0",
            "_view_name": "LayoutView",
            "align_content": null,
            "align_items": null,
            "align_self": null,
            "border": null,
            "bottom": null,
            "display": null,
            "flex": null,
            "flex_flow": null,
            "grid_area": null,
            "grid_auto_columns": null,
            "grid_auto_flow": null,
            "grid_auto_rows": null,
            "grid_column": null,
            "grid_gap": null,
            "grid_row": null,
            "grid_template_areas": null,
            "grid_template_columns": null,
            "grid_template_rows": null,
            "height": null,
            "justify_content": null,
            "justify_items": null,
            "left": null,
            "margin": null,
            "max_height": null,
            "max_width": null,
            "min_height": null,
            "min_width": null,
            "object_fit": null,
            "object_position": null,
            "order": null,
            "overflow": null,
            "overflow_x": null,
            "overflow_y": null,
            "padding": null,
            "right": null,
            "top": null,
            "visibility": null,
            "width": null
          }
        },
        "11f68756e90540e0b0275bd1864319fa": {
          "model_module": "@jupyter-widgets/controls",
          "model_name": "DescriptionStyleModel",
          "model_module_version": "1.5.0",
          "state": {
            "_model_module": "@jupyter-widgets/controls",
            "_model_module_version": "1.5.0",
            "_model_name": "DescriptionStyleModel",
            "_view_count": null,
            "_view_module": "@jupyter-widgets/base",
            "_view_module_version": "1.2.0",
            "_view_name": "StyleView",
            "description_width": ""
          }
        },
        "3b701de8fb404f69bedda1cf841ca450": {
          "model_module": "@jupyter-widgets/base",
          "model_name": "LayoutModel",
          "model_module_version": "1.2.0",
          "state": {
            "_model_module": "@jupyter-widgets/base",
            "_model_module_version": "1.2.0",
            "_model_name": "LayoutModel",
            "_view_count": null,
            "_view_module": "@jupyter-widgets/base",
            "_view_module_version": "1.2.0",
            "_view_name": "LayoutView",
            "align_content": null,
            "align_items": null,
            "align_self": null,
            "border": null,
            "bottom": null,
            "display": null,
            "flex": null,
            "flex_flow": null,
            "grid_area": null,
            "grid_auto_columns": null,
            "grid_auto_flow": null,
            "grid_auto_rows": null,
            "grid_column": null,
            "grid_gap": null,
            "grid_row": null,
            "grid_template_areas": null,
            "grid_template_columns": null,
            "grid_template_rows": null,
            "height": null,
            "justify_content": null,
            "justify_items": null,
            "left": null,
            "margin": null,
            "max_height": null,
            "max_width": null,
            "min_height": null,
            "min_width": null,
            "object_fit": null,
            "object_position": null,
            "order": null,
            "overflow": null,
            "overflow_x": null,
            "overflow_y": null,
            "padding": null,
            "right": null,
            "top": null,
            "visibility": null,
            "width": null
          }
        },
        "b8f2671ad8cc4c2eaf8cc9ae02b1a108": {
          "model_module": "@jupyter-widgets/controls",
          "model_name": "ProgressStyleModel",
          "model_module_version": "1.5.0",
          "state": {
            "_model_module": "@jupyter-widgets/controls",
            "_model_module_version": "1.5.0",
            "_model_name": "ProgressStyleModel",
            "_view_count": null,
            "_view_module": "@jupyter-widgets/base",
            "_view_module_version": "1.2.0",
            "_view_name": "StyleView",
            "bar_color": null,
            "description_width": ""
          }
        },
        "65944b94c075426fb14ad7a1ef346cd7": {
          "model_module": "@jupyter-widgets/base",
          "model_name": "LayoutModel",
          "model_module_version": "1.2.0",
          "state": {
            "_model_module": "@jupyter-widgets/base",
            "_model_module_version": "1.2.0",
            "_model_name": "LayoutModel",
            "_view_count": null,
            "_view_module": "@jupyter-widgets/base",
            "_view_module_version": "1.2.0",
            "_view_name": "LayoutView",
            "align_content": null,
            "align_items": null,
            "align_self": null,
            "border": null,
            "bottom": null,
            "display": null,
            "flex": null,
            "flex_flow": null,
            "grid_area": null,
            "grid_auto_columns": null,
            "grid_auto_flow": null,
            "grid_auto_rows": null,
            "grid_column": null,
            "grid_gap": null,
            "grid_row": null,
            "grid_template_areas": null,
            "grid_template_columns": null,
            "grid_template_rows": null,
            "height": null,
            "justify_content": null,
            "justify_items": null,
            "left": null,
            "margin": null,
            "max_height": null,
            "max_width": null,
            "min_height": null,
            "min_width": null,
            "object_fit": null,
            "object_position": null,
            "order": null,
            "overflow": null,
            "overflow_x": null,
            "overflow_y": null,
            "padding": null,
            "right": null,
            "top": null,
            "visibility": null,
            "width": null
          }
        },
        "9e75788bc2ea481db64b602a623cc1fd": {
          "model_module": "@jupyter-widgets/controls",
          "model_name": "DescriptionStyleModel",
          "model_module_version": "1.5.0",
          "state": {
            "_model_module": "@jupyter-widgets/controls",
            "_model_module_version": "1.5.0",
            "_model_name": "DescriptionStyleModel",
            "_view_count": null,
            "_view_module": "@jupyter-widgets/base",
            "_view_module_version": "1.2.0",
            "_view_name": "StyleView",
            "description_width": ""
          }
        },
        "5c5ee02896b0475298642cf2c15325c6": {
          "model_module": "@jupyter-widgets/controls",
          "model_name": "HBoxModel",
          "model_module_version": "1.5.0",
          "state": {
            "_dom_classes": [],
            "_model_module": "@jupyter-widgets/controls",
            "_model_module_version": "1.5.0",
            "_model_name": "HBoxModel",
            "_view_count": null,
            "_view_module": "@jupyter-widgets/controls",
            "_view_module_version": "1.5.0",
            "_view_name": "HBoxView",
            "box_style": "",
            "children": [
              "IPY_MODEL_b6c21de922444e2987af842febaf2264",
              "IPY_MODEL_3af699eee3514cbeb91c9f5026a9cbac",
              "IPY_MODEL_c41044018e4b4c08a4f26af280dc9dea"
            ],
            "layout": "IPY_MODEL_750438663fee4880b3b662287bcb913a"
          }
        },
        "b6c21de922444e2987af842febaf2264": {
          "model_module": "@jupyter-widgets/controls",
          "model_name": "HTMLModel",
          "model_module_version": "1.5.0",
          "state": {
            "_dom_classes": [],
            "_model_module": "@jupyter-widgets/controls",
            "_model_module_version": "1.5.0",
            "_model_name": "HTMLModel",
            "_view_count": null,
            "_view_module": "@jupyter-widgets/controls",
            "_view_module_version": "1.5.0",
            "_view_name": "HTMLView",
            "description": "",
            "description_tooltip": null,
            "layout": "IPY_MODEL_c09aafba374c40688904474ec7ec654e",
            "placeholder": "​",
            "style": "IPY_MODEL_451c7eaee86c4a4dbd77fae54e1ee93f",
            "value": "Map: 100%"
          }
        },
        "3af699eee3514cbeb91c9f5026a9cbac": {
          "model_module": "@jupyter-widgets/controls",
          "model_name": "FloatProgressModel",
          "model_module_version": "1.5.0",
          "state": {
            "_dom_classes": [],
            "_model_module": "@jupyter-widgets/controls",
            "_model_module_version": "1.5.0",
            "_model_name": "FloatProgressModel",
            "_view_count": null,
            "_view_module": "@jupyter-widgets/controls",
            "_view_module_version": "1.5.0",
            "_view_name": "ProgressView",
            "bar_style": "success",
            "description": "",
            "description_tooltip": null,
            "layout": "IPY_MODEL_dbe7708fbf71495d92331357bb87cc74",
            "max": 100,
            "min": 0,
            "orientation": "horizontal",
            "style": "IPY_MODEL_6a8b666db2dc4748b54cd35ed1d9f74a",
            "value": 100
          }
        },
        "c41044018e4b4c08a4f26af280dc9dea": {
          "model_module": "@jupyter-widgets/controls",
          "model_name": "HTMLModel",
          "model_module_version": "1.5.0",
          "state": {
            "_dom_classes": [],
            "_model_module": "@jupyter-widgets/controls",
            "_model_module_version": "1.5.0",
            "_model_name": "HTMLModel",
            "_view_count": null,
            "_view_module": "@jupyter-widgets/controls",
            "_view_module_version": "1.5.0",
            "_view_name": "HTMLView",
            "description": "",
            "description_tooltip": null,
            "layout": "IPY_MODEL_fb85ebe87a4948a19430417d3304af33",
            "placeholder": "​",
            "style": "IPY_MODEL_23e7159fe04b4bb19b08f3085f7601e0",
            "value": " 100/100 [00:00&lt;00:00, 1014.22 examples/s]"
          }
        },
        "750438663fee4880b3b662287bcb913a": {
          "model_module": "@jupyter-widgets/base",
          "model_name": "LayoutModel",
          "model_module_version": "1.2.0",
          "state": {
            "_model_module": "@jupyter-widgets/base",
            "_model_module_version": "1.2.0",
            "_model_name": "LayoutModel",
            "_view_count": null,
            "_view_module": "@jupyter-widgets/base",
            "_view_module_version": "1.2.0",
            "_view_name": "LayoutView",
            "align_content": null,
            "align_items": null,
            "align_self": null,
            "border": null,
            "bottom": null,
            "display": null,
            "flex": null,
            "flex_flow": null,
            "grid_area": null,
            "grid_auto_columns": null,
            "grid_auto_flow": null,
            "grid_auto_rows": null,
            "grid_column": null,
            "grid_gap": null,
            "grid_row": null,
            "grid_template_areas": null,
            "grid_template_columns": null,
            "grid_template_rows": null,
            "height": null,
            "justify_content": null,
            "justify_items": null,
            "left": null,
            "margin": null,
            "max_height": null,
            "max_width": null,
            "min_height": null,
            "min_width": null,
            "object_fit": null,
            "object_position": null,
            "order": null,
            "overflow": null,
            "overflow_x": null,
            "overflow_y": null,
            "padding": null,
            "right": null,
            "top": null,
            "visibility": null,
            "width": null
          }
        },
        "c09aafba374c40688904474ec7ec654e": {
          "model_module": "@jupyter-widgets/base",
          "model_name": "LayoutModel",
          "model_module_version": "1.2.0",
          "state": {
            "_model_module": "@jupyter-widgets/base",
            "_model_module_version": "1.2.0",
            "_model_name": "LayoutModel",
            "_view_count": null,
            "_view_module": "@jupyter-widgets/base",
            "_view_module_version": "1.2.0",
            "_view_name": "LayoutView",
            "align_content": null,
            "align_items": null,
            "align_self": null,
            "border": null,
            "bottom": null,
            "display": null,
            "flex": null,
            "flex_flow": null,
            "grid_area": null,
            "grid_auto_columns": null,
            "grid_auto_flow": null,
            "grid_auto_rows": null,
            "grid_column": null,
            "grid_gap": null,
            "grid_row": null,
            "grid_template_areas": null,
            "grid_template_columns": null,
            "grid_template_rows": null,
            "height": null,
            "justify_content": null,
            "justify_items": null,
            "left": null,
            "margin": null,
            "max_height": null,
            "max_width": null,
            "min_height": null,
            "min_width": null,
            "object_fit": null,
            "object_position": null,
            "order": null,
            "overflow": null,
            "overflow_x": null,
            "overflow_y": null,
            "padding": null,
            "right": null,
            "top": null,
            "visibility": null,
            "width": null
          }
        },
        "451c7eaee86c4a4dbd77fae54e1ee93f": {
          "model_module": "@jupyter-widgets/controls",
          "model_name": "DescriptionStyleModel",
          "model_module_version": "1.5.0",
          "state": {
            "_model_module": "@jupyter-widgets/controls",
            "_model_module_version": "1.5.0",
            "_model_name": "DescriptionStyleModel",
            "_view_count": null,
            "_view_module": "@jupyter-widgets/base",
            "_view_module_version": "1.2.0",
            "_view_name": "StyleView",
            "description_width": ""
          }
        },
        "dbe7708fbf71495d92331357bb87cc74": {
          "model_module": "@jupyter-widgets/base",
          "model_name": "LayoutModel",
          "model_module_version": "1.2.0",
          "state": {
            "_model_module": "@jupyter-widgets/base",
            "_model_module_version": "1.2.0",
            "_model_name": "LayoutModel",
            "_view_count": null,
            "_view_module": "@jupyter-widgets/base",
            "_view_module_version": "1.2.0",
            "_view_name": "LayoutView",
            "align_content": null,
            "align_items": null,
            "align_self": null,
            "border": null,
            "bottom": null,
            "display": null,
            "flex": null,
            "flex_flow": null,
            "grid_area": null,
            "grid_auto_columns": null,
            "grid_auto_flow": null,
            "grid_auto_rows": null,
            "grid_column": null,
            "grid_gap": null,
            "grid_row": null,
            "grid_template_areas": null,
            "grid_template_columns": null,
            "grid_template_rows": null,
            "height": null,
            "justify_content": null,
            "justify_items": null,
            "left": null,
            "margin": null,
            "max_height": null,
            "max_width": null,
            "min_height": null,
            "min_width": null,
            "object_fit": null,
            "object_position": null,
            "order": null,
            "overflow": null,
            "overflow_x": null,
            "overflow_y": null,
            "padding": null,
            "right": null,
            "top": null,
            "visibility": null,
            "width": null
          }
        },
        "6a8b666db2dc4748b54cd35ed1d9f74a": {
          "model_module": "@jupyter-widgets/controls",
          "model_name": "ProgressStyleModel",
          "model_module_version": "1.5.0",
          "state": {
            "_model_module": "@jupyter-widgets/controls",
            "_model_module_version": "1.5.0",
            "_model_name": "ProgressStyleModel",
            "_view_count": null,
            "_view_module": "@jupyter-widgets/base",
            "_view_module_version": "1.2.0",
            "_view_name": "StyleView",
            "bar_color": null,
            "description_width": ""
          }
        },
        "fb85ebe87a4948a19430417d3304af33": {
          "model_module": "@jupyter-widgets/base",
          "model_name": "LayoutModel",
          "model_module_version": "1.2.0",
          "state": {
            "_model_module": "@jupyter-widgets/base",
            "_model_module_version": "1.2.0",
            "_model_name": "LayoutModel",
            "_view_count": null,
            "_view_module": "@jupyter-widgets/base",
            "_view_module_version": "1.2.0",
            "_view_name": "LayoutView",
            "align_content": null,
            "align_items": null,
            "align_self": null,
            "border": null,
            "bottom": null,
            "display": null,
            "flex": null,
            "flex_flow": null,
            "grid_area": null,
            "grid_auto_columns": null,
            "grid_auto_flow": null,
            "grid_auto_rows": null,
            "grid_column": null,
            "grid_gap": null,
            "grid_row": null,
            "grid_template_areas": null,
            "grid_template_columns": null,
            "grid_template_rows": null,
            "height": null,
            "justify_content": null,
            "justify_items": null,
            "left": null,
            "margin": null,
            "max_height": null,
            "max_width": null,
            "min_height": null,
            "min_width": null,
            "object_fit": null,
            "object_position": null,
            "order": null,
            "overflow": null,
            "overflow_x": null,
            "overflow_y": null,
            "padding": null,
            "right": null,
            "top": null,
            "visibility": null,
            "width": null
          }
        },
        "23e7159fe04b4bb19b08f3085f7601e0": {
          "model_module": "@jupyter-widgets/controls",
          "model_name": "DescriptionStyleModel",
          "model_module_version": "1.5.0",
          "state": {
            "_model_module": "@jupyter-widgets/controls",
            "_model_module_version": "1.5.0",
            "_model_name": "DescriptionStyleModel",
            "_view_count": null,
            "_view_module": "@jupyter-widgets/base",
            "_view_module_version": "1.2.0",
            "_view_name": "StyleView",
            "description_width": ""
          }
        },
        "eed8a73c9cf948cdafb7f8762a9d7c5c": {
          "model_module": "@jupyter-widgets/controls",
          "model_name": "HBoxModel",
          "model_module_version": "1.5.0",
          "state": {
            "_dom_classes": [],
            "_model_module": "@jupyter-widgets/controls",
            "_model_module_version": "1.5.0",
            "_model_name": "HBoxModel",
            "_view_count": null,
            "_view_module": "@jupyter-widgets/controls",
            "_view_module_version": "1.5.0",
            "_view_name": "HBoxView",
            "box_style": "",
            "children": [
              "IPY_MODEL_5a5f3b898fdd4d10aff01a795275f159",
              "IPY_MODEL_e77d95b119e141698d90e3dc12e767fc",
              "IPY_MODEL_7732e354dd3c48248778b0a3a1c99792"
            ],
            "layout": "IPY_MODEL_12ca0468b83c433ab0c95e631e448b62"
          }
        },
        "5a5f3b898fdd4d10aff01a795275f159": {
          "model_module": "@jupyter-widgets/controls",
          "model_name": "HTMLModel",
          "model_module_version": "1.5.0",
          "state": {
            "_dom_classes": [],
            "_model_module": "@jupyter-widgets/controls",
            "_model_module_version": "1.5.0",
            "_model_name": "HTMLModel",
            "_view_count": null,
            "_view_module": "@jupyter-widgets/controls",
            "_view_module_version": "1.5.0",
            "_view_name": "HTMLView",
            "description": "",
            "description_tooltip": null,
            "layout": "IPY_MODEL_dbf233b5057946f4849eeeec057c69cf",
            "placeholder": "​",
            "style": "IPY_MODEL_0dc3c8632b9f4ffdac016ef5ae685b20",
            "value": "Map: 100%"
          }
        },
        "e77d95b119e141698d90e3dc12e767fc": {
          "model_module": "@jupyter-widgets/controls",
          "model_name": "FloatProgressModel",
          "model_module_version": "1.5.0",
          "state": {
            "_dom_classes": [],
            "_model_module": "@jupyter-widgets/controls",
            "_model_module_version": "1.5.0",
            "_model_name": "FloatProgressModel",
            "_view_count": null,
            "_view_module": "@jupyter-widgets/controls",
            "_view_module_version": "1.5.0",
            "_view_name": "ProgressView",
            "bar_style": "success",
            "description": "",
            "description_tooltip": null,
            "layout": "IPY_MODEL_696ce48645a64e70a9ea28ffd851879d",
            "max": 100,
            "min": 0,
            "orientation": "horizontal",
            "style": "IPY_MODEL_4ed290426e6346d4ad235723c045ea24",
            "value": 100
          }
        },
        "7732e354dd3c48248778b0a3a1c99792": {
          "model_module": "@jupyter-widgets/controls",
          "model_name": "HTMLModel",
          "model_module_version": "1.5.0",
          "state": {
            "_dom_classes": [],
            "_model_module": "@jupyter-widgets/controls",
            "_model_module_version": "1.5.0",
            "_model_name": "HTMLModel",
            "_view_count": null,
            "_view_module": "@jupyter-widgets/controls",
            "_view_module_version": "1.5.0",
            "_view_name": "HTMLView",
            "description": "",
            "description_tooltip": null,
            "layout": "IPY_MODEL_101ccc5d16624a80aa9910859cb29e9b",
            "placeholder": "​",
            "style": "IPY_MODEL_4532e572e1db42d8ba36fc957d9986e8",
            "value": " 100/100 [00:00&lt;00:00, 939.61 examples/s]"
          }
        },
        "12ca0468b83c433ab0c95e631e448b62": {
          "model_module": "@jupyter-widgets/base",
          "model_name": "LayoutModel",
          "model_module_version": "1.2.0",
          "state": {
            "_model_module": "@jupyter-widgets/base",
            "_model_module_version": "1.2.0",
            "_model_name": "LayoutModel",
            "_view_count": null,
            "_view_module": "@jupyter-widgets/base",
            "_view_module_version": "1.2.0",
            "_view_name": "LayoutView",
            "align_content": null,
            "align_items": null,
            "align_self": null,
            "border": null,
            "bottom": null,
            "display": null,
            "flex": null,
            "flex_flow": null,
            "grid_area": null,
            "grid_auto_columns": null,
            "grid_auto_flow": null,
            "grid_auto_rows": null,
            "grid_column": null,
            "grid_gap": null,
            "grid_row": null,
            "grid_template_areas": null,
            "grid_template_columns": null,
            "grid_template_rows": null,
            "height": null,
            "justify_content": null,
            "justify_items": null,
            "left": null,
            "margin": null,
            "max_height": null,
            "max_width": null,
            "min_height": null,
            "min_width": null,
            "object_fit": null,
            "object_position": null,
            "order": null,
            "overflow": null,
            "overflow_x": null,
            "overflow_y": null,
            "padding": null,
            "right": null,
            "top": null,
            "visibility": null,
            "width": null
          }
        },
        "dbf233b5057946f4849eeeec057c69cf": {
          "model_module": "@jupyter-widgets/base",
          "model_name": "LayoutModel",
          "model_module_version": "1.2.0",
          "state": {
            "_model_module": "@jupyter-widgets/base",
            "_model_module_version": "1.2.0",
            "_model_name": "LayoutModel",
            "_view_count": null,
            "_view_module": "@jupyter-widgets/base",
            "_view_module_version": "1.2.0",
            "_view_name": "LayoutView",
            "align_content": null,
            "align_items": null,
            "align_self": null,
            "border": null,
            "bottom": null,
            "display": null,
            "flex": null,
            "flex_flow": null,
            "grid_area": null,
            "grid_auto_columns": null,
            "grid_auto_flow": null,
            "grid_auto_rows": null,
            "grid_column": null,
            "grid_gap": null,
            "grid_row": null,
            "grid_template_areas": null,
            "grid_template_columns": null,
            "grid_template_rows": null,
            "height": null,
            "justify_content": null,
            "justify_items": null,
            "left": null,
            "margin": null,
            "max_height": null,
            "max_width": null,
            "min_height": null,
            "min_width": null,
            "object_fit": null,
            "object_position": null,
            "order": null,
            "overflow": null,
            "overflow_x": null,
            "overflow_y": null,
            "padding": null,
            "right": null,
            "top": null,
            "visibility": null,
            "width": null
          }
        },
        "0dc3c8632b9f4ffdac016ef5ae685b20": {
          "model_module": "@jupyter-widgets/controls",
          "model_name": "DescriptionStyleModel",
          "model_module_version": "1.5.0",
          "state": {
            "_model_module": "@jupyter-widgets/controls",
            "_model_module_version": "1.5.0",
            "_model_name": "DescriptionStyleModel",
            "_view_count": null,
            "_view_module": "@jupyter-widgets/base",
            "_view_module_version": "1.2.0",
            "_view_name": "StyleView",
            "description_width": ""
          }
        },
        "696ce48645a64e70a9ea28ffd851879d": {
          "model_module": "@jupyter-widgets/base",
          "model_name": "LayoutModel",
          "model_module_version": "1.2.0",
          "state": {
            "_model_module": "@jupyter-widgets/base",
            "_model_module_version": "1.2.0",
            "_model_name": "LayoutModel",
            "_view_count": null,
            "_view_module": "@jupyter-widgets/base",
            "_view_module_version": "1.2.0",
            "_view_name": "LayoutView",
            "align_content": null,
            "align_items": null,
            "align_self": null,
            "border": null,
            "bottom": null,
            "display": null,
            "flex": null,
            "flex_flow": null,
            "grid_area": null,
            "grid_auto_columns": null,
            "grid_auto_flow": null,
            "grid_auto_rows": null,
            "grid_column": null,
            "grid_gap": null,
            "grid_row": null,
            "grid_template_areas": null,
            "grid_template_columns": null,
            "grid_template_rows": null,
            "height": null,
            "justify_content": null,
            "justify_items": null,
            "left": null,
            "margin": null,
            "max_height": null,
            "max_width": null,
            "min_height": null,
            "min_width": null,
            "object_fit": null,
            "object_position": null,
            "order": null,
            "overflow": null,
            "overflow_x": null,
            "overflow_y": null,
            "padding": null,
            "right": null,
            "top": null,
            "visibility": null,
            "width": null
          }
        },
        "4ed290426e6346d4ad235723c045ea24": {
          "model_module": "@jupyter-widgets/controls",
          "model_name": "ProgressStyleModel",
          "model_module_version": "1.5.0",
          "state": {
            "_model_module": "@jupyter-widgets/controls",
            "_model_module_version": "1.5.0",
            "_model_name": "ProgressStyleModel",
            "_view_count": null,
            "_view_module": "@jupyter-widgets/base",
            "_view_module_version": "1.2.0",
            "_view_name": "StyleView",
            "bar_color": null,
            "description_width": ""
          }
        },
        "101ccc5d16624a80aa9910859cb29e9b": {
          "model_module": "@jupyter-widgets/base",
          "model_name": "LayoutModel",
          "model_module_version": "1.2.0",
          "state": {
            "_model_module": "@jupyter-widgets/base",
            "_model_module_version": "1.2.0",
            "_model_name": "LayoutModel",
            "_view_count": null,
            "_view_module": "@jupyter-widgets/base",
            "_view_module_version": "1.2.0",
            "_view_name": "LayoutView",
            "align_content": null,
            "align_items": null,
            "align_self": null,
            "border": null,
            "bottom": null,
            "display": null,
            "flex": null,
            "flex_flow": null,
            "grid_area": null,
            "grid_auto_columns": null,
            "grid_auto_flow": null,
            "grid_auto_rows": null,
            "grid_column": null,
            "grid_gap": null,
            "grid_row": null,
            "grid_template_areas": null,
            "grid_template_columns": null,
            "grid_template_rows": null,
            "height": null,
            "justify_content": null,
            "justify_items": null,
            "left": null,
            "margin": null,
            "max_height": null,
            "max_width": null,
            "min_height": null,
            "min_width": null,
            "object_fit": null,
            "object_position": null,
            "order": null,
            "overflow": null,
            "overflow_x": null,
            "overflow_y": null,
            "padding": null,
            "right": null,
            "top": null,
            "visibility": null,
            "width": null
          }
        },
        "4532e572e1db42d8ba36fc957d9986e8": {
          "model_module": "@jupyter-widgets/controls",
          "model_name": "DescriptionStyleModel",
          "model_module_version": "1.5.0",
          "state": {
            "_model_module": "@jupyter-widgets/controls",
            "_model_module_version": "1.5.0",
            "_model_name": "DescriptionStyleModel",
            "_view_count": null,
            "_view_module": "@jupyter-widgets/base",
            "_view_module_version": "1.2.0",
            "_view_name": "StyleView",
            "description_width": ""
          }
        }
      }
    }
  },
  "nbformat": 4,
  "nbformat_minor": 0
}