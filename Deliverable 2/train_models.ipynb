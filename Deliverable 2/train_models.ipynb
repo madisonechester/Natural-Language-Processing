{
 "cells": [
  {
   "attachments": {},
   "cell_type": "markdown",
   "metadata": {
    "collapsed": false,
    "jupyter": {
     "outputs_hidden": false
    }
   },
   "source": [
    "# Train Models\n",
    "\n",
    "**functions imported from utils.utils**\n",
    "\n",
    "This notebook contains the code needed to train and store models to the disk.\n",
    "\n",
    "Functions with a random state must be fixed to a number so that the results are reproducible."
   ]
  },
  {
   "attachments": {},
   "cell_type": "markdown",
   "metadata": {
    "collapsed": false,
    "jupyter": {
     "outputs_hidden": false
    }
   },
   "source": [
    "## Imports"
   ]
  },
  {
   "cell_type": "code",
   "execution_count": 25,
   "metadata": {},
   "outputs": [
    {
     "name": "stdout",
     "output_type": "stream",
     "text": [
      "running build_ext\n"
     ]
    }
   ],
   "source": [
    "# cython import\n",
    "!python skseq/setup.py build_ext --build-lib=./skseq"
   ]
  },
  {
   "cell_type": "code",
   "execution_count": 26,
   "metadata": {},
   "outputs": [],
   "source": [
    "# livelossplot installation\n",
    "#!pip install livelossplot"
   ]
  },
  {
   "cell_type": "code",
   "execution_count": 27,
   "metadata": {},
   "outputs": [],
   "source": [
    "from utils.utils import *"
   ]
  },
  {
   "cell_type": "code",
   "execution_count": 28,
   "metadata": {},
   "outputs": [],
   "source": [
    "import pickle\n",
    "import pandas as pd\n",
    "import tensorflow as tf\n",
    "from skseq.id_feature import IDFeatures\n",
    "from skseq import structured_perceptron_c \n",
    "from skseq.extended_feature import ExtendedFeatures\n",
    "from livelossplot.tf_keras import PlotLossesCallback\n",
    "from skseq.structured_perceptron import StructuredPerceptron\n",
    "from tensorflow.keras.callbacks import ModelCheckpoint, EarlyStopping"
   ]
  },
  {
   "cell_type": "code",
   "execution_count": 29,
   "metadata": {
    "collapsed": false,
    "jupyter": {
     "outputs_hidden": false
    }
   },
   "outputs": [
    {
     "name": "stdout",
     "output_type": "stream",
     "text": [
      "The autoreload extension is already loaded. To reload it, use:\n",
      "  %reload_ext autoreload\n"
     ]
    }
   ],
   "source": [
    "%load_ext autoreload\n",
    "%autoreload 2"
   ]
  },
  {
   "attachments": {},
   "cell_type": "markdown",
   "metadata": {
    "collapsed": false,
    "jupyter": {
     "outputs_hidden": false
    }
   },
   "source": [
    "## Train Dataset"
   ]
  },
  {
   "cell_type": "code",
   "execution_count": 30,
   "metadata": {
    "collapsed": false,
    "jupyter": {
     "outputs_hidden": false
    }
   },
   "outputs": [],
   "source": [
    "train = pd.read_csv(\"data/train_data_ner.csv\")"
   ]
  },
  {
   "cell_type": "code",
   "execution_count": 31,
   "metadata": {
    "collapsed": false,
    "jupyter": {
     "outputs_hidden": false
    }
   },
   "outputs": [
    {
     "name": "stderr",
     "output_type": "stream",
     "text": [
      "Processing: 100%|████████████████████████████████████████████████████████| 38366/38366 [00:37<00:00, 1029.61sentence/s]\n"
     ]
    }
   ],
   "source": [
    "X_train, y_train = get_data_target_sets(train)"
   ]
  },
  {
   "attachments": {},
   "cell_type": "markdown",
   "metadata": {
    "collapsed": false,
    "jupyter": {
     "outputs_hidden": false
    }
   },
   "source": [
    "### Corpus Creation\n",
    "\n",
    "We now create our corpus using the training data. The corpus consists of two dictionaries, one for the words and one for the tags. The words dictionary maps each word to an index, and the tags dictionary maps each tag to an index. We also create the reverse mapping for the tags dictionary. This is needed to convert the predictions back to the tag names.\n",
    "\n",
    "Example:\n",
    "```python\n",
    "        sentences = [['I', 'love', 'Python'], ['Python', 'is', 'great']]\n",
    "        tags = ['O', 'O', 'B']\n",
    "        word_dict, tag_dict, tag_dict_rev = create_corpus(sentences, tags)\n",
    "        # word_dict: {'I': 0, 'love': 1, 'Python': 2, 'is': 3, 'great': 4}\n",
    "        # tag_dict: {'O': 0, 'B': 1}\n",
    "        # tag_dict_rev: {0: 'O', 1: 'B'}\n",
    "```"
   ]
  },
  {
   "cell_type": "code",
   "execution_count": 32,
   "metadata": {
    "collapsed": false,
    "jupyter": {
     "outputs_hidden": false
    }
   },
   "outputs": [],
   "source": [
    "word_dict, tag_dict, tag_dict_rev = create_corpus(X_train, y_train)"
   ]
  },
  {
   "attachments": {},
   "cell_type": "markdown",
   "metadata": {
    "collapsed": false,
    "jupyter": {
     "outputs_hidden": false
    }
   },
   "source": [
    "### Training Sequence List"
   ]
  },
  {
   "attachments": {},
   "cell_type": "markdown",
   "metadata": {
    "collapsed": false,
    "jupyter": {
     "outputs_hidden": false
    }
   },
   "source": [
    "#### Without Cython"
   ]
  },
  {
   "cell_type": "code",
   "execution_count": 33,
   "metadata": {
    "collapsed": false,
    "jupyter": {
     "outputs_hidden": false
    }
   },
   "outputs": [
    {
     "name": "stderr",
     "output_type": "stream",
     "text": [
      "Adding sequences: 100%|████████████████████████████████████████████████████| 38366/38366 [08:41<00:00, 73.51sequence/s]\n"
     ]
    }
   ],
   "source": [
    "train_seq = create_sequence_list(word_dict, tag_dict, X_train, y_train)"
   ]
  },
  {
   "attachments": {},
   "cell_type": "markdown",
   "metadata": {
    "collapsed": false,
    "jupyter": {
     "outputs_hidden": false
    }
   },
   "source": [
    "#### With Cython"
   ]
  },
  {
   "cell_type": "code",
   "execution_count": 34,
   "metadata": {
    "collapsed": false,
    "jupyter": {
     "outputs_hidden": false
    }
   },
   "outputs": [
    {
     "name": "stderr",
     "output_type": "stream",
     "text": [
      "Adding sequences: 100%|████████████████████████████████████████████████████| 38366/38366 [08:37<00:00, 74.20sequence/s]\n"
     ]
    }
   ],
   "source": [
    "train_seq = create_sequence_listC(word_dict, tag_dict, X_train, y_train)"
   ]
  },
  {
   "cell_type": "code",
   "execution_count": 35,
   "metadata": {
    "collapsed": false,
    "jupyter": {
     "outputs_hidden": false
    }
   },
   "outputs": [
    {
     "name": "stdout",
     "output_type": "stream",
     "text": [
      "0/0 1/0 2/0 3/0 4/0 5/0 6/1 7/0 8/0 9/0 10/0 11/0 12/1 13/0 14/0 9/0 15/0 1/0 16/2 17/0 18/0 19/0 20/0 21/0 \n",
      "Thousands/O of/O demonstrators/O have/O marched/O through/O London/B-geo to/O protest/O the/O war/O in/O Iraq/B-geo and/O demand/O the/O withdrawal/O of/O British/B-gpe troops/O from/O that/O country/O ./O \n"
     ]
    }
   ],
   "source": [
    "print(train_seq[0])\n",
    "print(train_seq[0].to_words(sequence_list=train_seq))"
   ]
  },
  {
   "attachments": {},
   "cell_type": "markdown",
   "metadata": {
    "collapsed": false,
    "jupyter": {
     "outputs_hidden": false
    }
   },
   "source": [
    "## Training Models"
   ]
  },
  {
   "attachments": {},
   "cell_type": "markdown",
   "metadata": {
    "collapsed": false,
    "jupyter": {
     "outputs_hidden": false
    }
   },
   "source": [
    "## Structured Perceptron with Default Features\n",
    "\n",
    "To train the structured perceptron, we create and build a feature mapper."
   ]
  },
  {
   "cell_type": "code",
   "execution_count": 36,
   "metadata": {
    "collapsed": false,
    "jupyter": {
     "outputs_hidden": false
    }
   },
   "outputs": [],
   "source": [
    "feature_mapper = IDFeatures(train_seq)\n",
    "feature_mapper.build_features()"
   ]
  },
  {
   "cell_type": "code",
   "execution_count": 37,
   "metadata": {
    "collapsed": false,
    "jupyter": {
     "outputs_hidden": false
    }
   },
   "outputs": [
    {
     "name": "stdout",
     "output_type": "stream",
     "text": [
      "Initial features\n",
      "[0] init_tag:O\n",
      "\n",
      "\n",
      "Transition features\n",
      "[3] prev_tag:O::O\n",
      "[3] prev_tag:O::O\n",
      "[3] prev_tag:O::O\n",
      "[3] prev_tag:O::O\n",
      "[3] prev_tag:O::O\n",
      "[9] prev_tag:O::B-geo\n",
      "[11] prev_tag:B-geo::O\n",
      "[3] prev_tag:O::O\n",
      "[3] prev_tag:O::O\n",
      "[3] prev_tag:O::O\n",
      "[3] prev_tag:O::O\n",
      "[9] prev_tag:O::B-geo\n",
      "[11] prev_tag:B-geo::O\n",
      "[3] prev_tag:O::O\n",
      "[3] prev_tag:O::O\n",
      "[3] prev_tag:O::O\n",
      "[3] prev_tag:O::O\n",
      "[21] prev_tag:O::B-gpe\n",
      "[23] prev_tag:B-gpe::O\n",
      "[3] prev_tag:O::O\n",
      "[3] prev_tag:O::O\n",
      "[3] prev_tag:O::O\n",
      "[3] prev_tag:O::O\n",
      "\n",
      "\n",
      "Final features\n",
      "[28] final_prev_tag:O\n",
      "\n",
      "\n",
      "Emission features\n",
      "[1] id:Thousands::O\n",
      "[2] id:of::O\n",
      "[4] id:demonstrators::O\n",
      "[5] id:have::O\n",
      "[6] id:marched::O\n",
      "[7] id:through::O\n",
      "[8] id:London::B-geo\n",
      "[10] id:to::O\n",
      "[12] id:protest::O\n",
      "[13] id:the::O\n",
      "[14] id:war::O\n",
      "[15] id:in::O\n",
      "[16] id:Iraq::B-geo\n",
      "[17] id:and::O\n",
      "[18] id:demand::O\n",
      "[13] id:the::O\n",
      "[19] id:withdrawal::O\n",
      "[2] id:of::O\n",
      "[20] id:British::B-gpe\n",
      "[22] id:troops::O\n",
      "[24] id:from::O\n",
      "[25] id:that::O\n",
      "[26] id:country::O\n",
      "[27] id:.::O\n",
      "\n",
      "\n"
     ]
    }
   ],
   "source": [
    "show_features(feature_mapper, train_seq[0])"
   ]
  },
  {
   "attachments": {},
   "cell_type": "markdown",
   "metadata": {
    "collapsed": false,
    "jupyter": {
     "outputs_hidden": false
    }
   },
   "source": [
    "### Training"
   ]
  },
  {
   "attachments": {},
   "cell_type": "markdown",
   "metadata": {
    "collapsed": false,
    "jupyter": {
     "outputs_hidden": false
    }
   },
   "source": [
    "#### Without Cython"
   ]
  },
  {
   "cell_type": "code",
   "execution_count": 38,
   "metadata": {
    "collapsed": false,
    "jupyter": {
     "outputs_hidden": false
    }
   },
   "outputs": [],
   "source": [
    "num_epochs = 15\n",
    "sp = StructuredPerceptron(word_dict, tag_dict, feature_mapper)\n",
    "sp.num_epochs = 5"
   ]
  },
  {
   "cell_type": "code",
   "execution_count": 39,
   "metadata": {
    "collapsed": false,
    "jupyter": {
     "outputs_hidden": false
    }
   },
   "outputs": [
    {
     "name": "stdout",
     "output_type": "stream",
     "text": [
      "Epoch: 0 Accuracy: 0.893815\n",
      "Epoch: 1 Accuracy: 0.931674\n",
      "Epoch: 2 Accuracy: 0.940913\n",
      "Epoch: 3 Accuracy: 0.946175\n",
      "Epoch: 4 Accuracy: 0.950018\n",
      "Epoch: 5 Accuracy: 0.952577\n",
      "Epoch: 6 Accuracy: 0.954425\n",
      "Epoch: 7 Accuracy: 0.956033\n",
      "Epoch: 8 Accuracy: 0.957185\n",
      "Epoch: 9 Accuracy: 0.958481\n",
      "Epoch: 10 Accuracy: 0.959217\n",
      "Epoch: 11 Accuracy: 0.960524\n",
      "Epoch: 12 Accuracy: 0.961121\n",
      "Epoch: 13 Accuracy: 0.961207\n",
      "Epoch: 14 Accuracy: 0.961983\n",
      "CPU times: total: 1h 1min 50s\n",
      "Wall time: 1h 1min 59s\n"
     ]
    }
   ],
   "source": [
    "%%time\n",
    "sp.fit(feature_mapper.dataset, num_epochs)"
   ]
  },
  {
   "cell_type": "code",
   "execution_count": 40,
   "metadata": {},
   "outputs": [],
   "source": [
    "sp.save_model(\"fitted_models/01_SP_Default_Features\")"
   ]
  },
  {
   "attachments": {},
   "cell_type": "markdown",
   "metadata": {
    "collapsed": false,
    "jupyter": {
     "outputs_hidden": false
    }
   },
   "source": [
    "#### With Cython"
   ]
  },
  {
   "cell_type": "code",
   "execution_count": 41,
   "metadata": {
    "collapsed": false,
    "jupyter": {
     "outputs_hidden": false
    }
   },
   "outputs": [],
   "source": [
    "num_epochs = 15\n",
    "sp_c = structured_perceptron_c.StructuredPerceptronC(word_dict, tag_dict, feature_mapper)\n",
    "sp_c.num_epochs = 5"
   ]
  },
  {
   "cell_type": "code",
   "execution_count": 42,
   "metadata": {
    "collapsed": false,
    "jupyter": {
     "outputs_hidden": false
    }
   },
   "outputs": [
    {
     "name": "stdout",
     "output_type": "stream",
     "text": [
      "Epoch: 0 Accuracy: 0.893815\n",
      "Epoch: 1 Accuracy: 0.931674\n",
      "Epoch: 2 Accuracy: 0.940913\n",
      "Epoch: 3 Accuracy: 0.946175\n",
      "Epoch: 4 Accuracy: 0.950018\n",
      "Epoch: 5 Accuracy: 0.952577\n",
      "Epoch: 6 Accuracy: 0.954425\n",
      "Epoch: 7 Accuracy: 0.956033\n",
      "Epoch: 8 Accuracy: 0.957185\n",
      "Epoch: 9 Accuracy: 0.958481\n",
      "Epoch: 10 Accuracy: 0.959217\n",
      "Epoch: 11 Accuracy: 0.960524\n",
      "Epoch: 12 Accuracy: 0.961121\n",
      "Epoch: 13 Accuracy: 0.961207\n",
      "Epoch: 14 Accuracy: 0.961983\n",
      "CPU times: total: 1h 1min 26s\n",
      "Wall time: 1h 1min 35s\n"
     ]
    }
   ],
   "source": [
    "%%time\n",
    "sp_c.fit(feature_mapper.dataset, num_epochs)"
   ]
  },
  {
   "cell_type": "code",
   "execution_count": 43,
   "metadata": {
    "collapsed": false,
    "jupyter": {
     "outputs_hidden": false
    }
   },
   "outputs": [],
   "source": [
    "sp_c.save_model(\"fitted_models/01C_SP_Default_Features\")"
   ]
  },
  {
   "attachments": {},
   "cell_type": "markdown",
   "metadata": {
    "collapsed": false,
    "jupyter": {
     "outputs_hidden": false
    }
   },
   "source": [
    "## Structured Perceptron with New Features"
   ]
  },
  {
   "cell_type": "code",
   "execution_count": 44,
   "metadata": {
    "collapsed": false,
    "jupyter": {
     "outputs_hidden": false
    }
   },
   "outputs": [],
   "source": [
    "feature_mapper_ext = ExtendedFeatures(train_seq)\n",
    "feature_mapper_ext.build_features()"
   ]
  },
  {
   "cell_type": "code",
   "execution_count": 45,
   "metadata": {
    "collapsed": false,
    "jupyter": {
     "outputs_hidden": false
    }
   },
   "outputs": [
    {
     "name": "stdout",
     "output_type": "stream",
     "text": [
      "Initial features\n",
      "[0] init_tag:O\n",
      "\n",
      "\n",
      "Transition features\n",
      "[8] prev_tag:O::O\n",
      "[45] prev_tag:O::B-tim\n",
      "[47] prev_tag:B-tim::O\n",
      "[8] prev_tag:O::O\n",
      "[8] prev_tag:O::O\n",
      "[8] prev_tag:O::O\n",
      "[8] prev_tag:O::O\n",
      "[16] prev_tag:O::B-geo\n",
      "[18] prev_tag:B-geo::O\n",
      "[8] prev_tag:O::O\n",
      "[8] prev_tag:O::O\n",
      "[8] prev_tag:O::O\n",
      "[8] prev_tag:O::O\n",
      "[59] prev_tag:O::B-org\n",
      "[61] prev_tag:B-org::O\n",
      "[8] prev_tag:O::O\n",
      "[8] prev_tag:O::O\n",
      "[8] prev_tag:O::O\n",
      "[8] prev_tag:O::O\n",
      "[8] prev_tag:O::O\n",
      "[8] prev_tag:O::O\n",
      "[8] prev_tag:O::O\n",
      "[8] prev_tag:O::O\n",
      "[8] prev_tag:O::O\n",
      "[8] prev_tag:O::O\n",
      "[8] prev_tag:O::O\n",
      "[8] prev_tag:O::O\n",
      "[8] prev_tag:O::O\n",
      "[16] prev_tag:O::B-geo\n",
      "[77] prev_tag:B-geo::I-geo\n",
      "[78] prev_tag:I-geo::O\n",
      "\n",
      "\n",
      "Final features\n",
      "[38] final_prev_tag:O\n",
      "\n",
      "\n",
      "Emission features\n",
      "[39, 2, 3] id:Helicopter::O\n",
      "[39, 2, 3] firstupper::O\n",
      "[39, 2, 3] alphanum::O\n",
      "[40, 5, 3] id:gunships::O\n",
      "[40, 5, 3] lower::O\n",
      "[40, 5, 3] alphanum::O\n",
      "[41, 42, 43, 44, 44] id:Saturday::B-tim\n",
      "[41, 42, 43, 44, 44] firstupper::B-tim\n",
      "[41, 42, 43, 44, 44] alphanum::B-tim\n",
      "[41, 42, 43, 44, 44] suffixday::B-tim\n",
      "[41, 42, 43, 44, 44] suffixday::B-tim\n",
      "[46, 5, 3] id:pounded::O\n",
      "[46, 5, 3] lower::O\n",
      "[46, 5, 3] alphanum::O\n",
      "[48, 5, 3] id:militant::O\n",
      "[48, 5, 3] lower::O\n",
      "[48, 5, 3] alphanum::O\n",
      "[49, 5, 3] id:hideouts::O\n",
      "[49, 5, 3] lower::O\n",
      "[49, 5, 3] alphanum::O\n",
      "[22, 5, 3, 6, 7] id:in::O\n",
      "[22, 5, 3, 6, 7] lower::O\n",
      "[22, 5, 3, 6, 7] alphanum::O\n",
      "[22, 5, 3, 6, 7] preposition::O\n",
      "[22, 5, 3, 6, 7] stopword::O\n",
      "[20, 5, 3, 6, 7] id:the::O\n",
      "[20, 5, 3, 6, 7] lower::O\n",
      "[20, 5, 3, 6, 7] alphanum::O\n",
      "[20, 5, 3, 6, 7] preposition::O\n",
      "[20, 5, 3, 6, 7] stopword::O\n",
      "[50, 14, 15] id:Orakzai::B-geo\n",
      "[50, 14, 15] firstupper::B-geo\n",
      "[50, 14, 15] alphanum::B-geo\n",
      "[51, 5, 3] id:tribal::O\n",
      "[51, 5, 3] lower::O\n",
      "[51, 5, 3] alphanum::O\n",
      "[52, 5, 3] id:region::O\n",
      "[52, 5, 3] lower::O\n",
      "[52, 5, 3] alphanum::O\n",
      "[53] id:,::O\n",
      "[54, 5, 3, 7] id:where::O\n",
      "[54, 5, 3, 7] lower::O\n",
      "[54, 5, 3, 7] alphanum::O\n",
      "[54, 5, 3, 7] stopword::O\n",
      "[55, 5, 3] id:many::O\n",
      "[55, 5, 3] lower::O\n",
      "[55, 5, 3] alphanum::O\n",
      "[56, 57, 58] id:Taliban::B-org\n",
      "[56, 57, 58] firstupper::B-org\n",
      "[56, 57, 58] alphanum::B-org\n",
      "[60, 5, 3] id:militants::O\n",
      "[60, 5, 3] lower::O\n",
      "[60, 5, 3] alphanum::O\n",
      "[62, 5, 3, 7] id:are::O\n",
      "[62, 5, 3, 7] lower::O\n",
      "[62, 5, 3, 7] alphanum::O\n",
      "[62, 5, 3, 7] stopword::O\n",
      "[63, 5, 3] id:believed::O\n",
      "[63, 5, 3] lower::O\n",
      "[63, 5, 3] alphanum::O\n",
      "[17, 5, 3, 6, 7] id:to::O\n",
      "[17, 5, 3, 6, 7] lower::O\n",
      "[17, 5, 3, 6, 7] alphanum::O\n",
      "[17, 5, 3, 6, 7] preposition::O\n",
      "[17, 5, 3, 6, 7] stopword::O\n",
      "[10, 5, 3, 7] id:have::O\n",
      "[10, 5, 3, 7] lower::O\n",
      "[10, 5, 3, 7] alphanum::O\n",
      "[10, 5, 3, 7] stopword::O\n",
      "[64, 5, 3] id:fled::O\n",
      "[64, 5, 3] lower::O\n",
      "[64, 5, 3] alphanum::O\n",
      "[17, 5, 3, 6, 7] id:to::O\n",
      "[17, 5, 3, 6, 7] lower::O\n",
      "[17, 5, 3, 6, 7] alphanum::O\n",
      "[17, 5, 3, 6, 7] preposition::O\n",
      "[17, 5, 3, 6, 7] stopword::O\n",
      "[65, 5, 3] id:avoid::O\n",
      "[65, 5, 3] lower::O\n",
      "[65, 5, 3] alphanum::O\n",
      "[66, 5, 3, 7] id:an::O\n",
      "[66, 5, 3, 7] lower::O\n",
      "[66, 5, 3, 7] alphanum::O\n",
      "[66, 5, 3, 7] stopword::O\n",
      "[67, 5, 3] id:earlier::O\n",
      "[67, 5, 3] lower::O\n",
      "[67, 5, 3] alphanum::O\n",
      "[68, 5, 3] id:military::O\n",
      "[68, 5, 3] lower::O\n",
      "[68, 5, 3] alphanum::O\n",
      "[69, 5, 3] id:offensive::O\n",
      "[69, 5, 3] lower::O\n",
      "[69, 5, 3] alphanum::O\n",
      "[22, 5, 3, 6, 7] id:in::O\n",
      "[22, 5, 3, 6, 7] lower::O\n",
      "[22, 5, 3, 6, 7] alphanum::O\n",
      "[22, 5, 3, 6, 7] preposition::O\n",
      "[22, 5, 3, 6, 7] stopword::O\n",
      "[70, 5, 3] id:nearby::O\n",
      "[70, 5, 3] lower::O\n",
      "[70, 5, 3] alphanum::O\n",
      "[71, 14, 15, 72] id:South::B-geo\n",
      "[71, 14, 15, 72] firstupper::B-geo\n",
      "[71, 14, 15, 72] alphanum::B-geo\n",
      "[71, 14, 15, 72] prefixSouth::B-geo\n",
      "[73, 74, 75, 76, 76] id:Waziristan::I-geo\n",
      "[73, 74, 75, 76, 76] firstupper::I-geo\n",
      "[73, 74, 75, 76, 76] alphanum::I-geo\n",
      "[73, 74, 75, 76, 76] suffixstan::I-geo\n",
      "[73, 74, 75, 76, 76] suffixstan::I-geo\n",
      "[37] id:.::O\n",
      "\n",
      "\n"
     ]
    }
   ],
   "source": [
    "show_features(feature_mapper_ext, train_seq[1])"
   ]
  },
  {
   "attachments": {},
   "cell_type": "markdown",
   "metadata": {
    "collapsed": false,
    "jupyter": {
     "outputs_hidden": false
    }
   },
   "source": [
    "### Train"
   ]
  },
  {
   "attachments": {},
   "cell_type": "markdown",
   "metadata": {
    "collapsed": false,
    "jupyter": {
     "outputs_hidden": false
    }
   },
   "source": [
    "#### Without Cython"
   ]
  },
  {
   "cell_type": "code",
   "execution_count": 46,
   "metadata": {
    "collapsed": false,
    "jupyter": {
     "outputs_hidden": false
    }
   },
   "outputs": [],
   "source": [
    "num_epochs = 15\n",
    "sp_ext = StructuredPerceptron(word_dict, tag_dict, feature_mapper_ext)\n",
    "sp_ext.num_epochs = 5"
   ]
  },
  {
   "cell_type": "code",
   "execution_count": 47,
   "metadata": {
    "collapsed": false,
    "jupyter": {
     "outputs_hidden": false
    }
   },
   "outputs": [
    {
     "name": "stdout",
     "output_type": "stream",
     "text": [
      "Epoch: 0 Accuracy: 0.930211\n",
      "Epoch: 1 Accuracy: 0.944578\n",
      "Epoch: 2 Accuracy: 0.948914\n",
      "Epoch: 3 Accuracy: 0.951235\n",
      "Epoch: 4 Accuracy: 0.953141\n",
      "Epoch: 5 Accuracy: 0.954629\n",
      "Epoch: 6 Accuracy: 0.955740\n",
      "Epoch: 7 Accuracy: 0.956660\n",
      "Epoch: 8 Accuracy: 0.957537\n",
      "Epoch: 9 Accuracy: 0.958633\n",
      "Epoch: 10 Accuracy: 0.959028\n",
      "Epoch: 11 Accuracy: 0.959821\n",
      "Epoch: 12 Accuracy: 0.959777\n",
      "Epoch: 13 Accuracy: 0.961037\n",
      "Epoch: 14 Accuracy: 0.960599\n",
      "CPU times: total: 1h 3min 18s\n",
      "Wall time: 1h 3min 33s\n"
     ]
    }
   ],
   "source": [
    "%%time\n",
    "sp_ext.fit(feature_mapper_ext.dataset, num_epochs)"
   ]
  },
  {
   "cell_type": "code",
   "execution_count": 48,
   "metadata": {},
   "outputs": [],
   "source": [
    "sp_ext.save_model(\"fitted_models/02_SP_Extended_Features\")"
   ]
  },
  {
   "attachments": {},
   "cell_type": "markdown",
   "metadata": {
    "collapsed": false,
    "jupyter": {
     "outputs_hidden": false
    }
   },
   "source": [
    "#### With Cython"
   ]
  },
  {
   "cell_type": "code",
   "execution_count": 49,
   "metadata": {
    "collapsed": false,
    "jupyter": {
     "outputs_hidden": false
    }
   },
   "outputs": [],
   "source": [
    "num_epochs = 15\n",
    "sp_ext_c = structured_perceptron_c.StructuredPerceptronC(word_dict, tag_dict, feature_mapper_ext)\n",
    "sp_ext_c.num_epochs = 5"
   ]
  },
  {
   "cell_type": "code",
   "execution_count": 50,
   "metadata": {
    "collapsed": false,
    "jupyter": {
     "outputs_hidden": false
    }
   },
   "outputs": [
    {
     "name": "stdout",
     "output_type": "stream",
     "text": [
      "Epoch: 0 Accuracy: 0.930211\n",
      "Epoch: 1 Accuracy: 0.944578\n",
      "Epoch: 2 Accuracy: 0.948914\n",
      "Epoch: 3 Accuracy: 0.951235\n",
      "Epoch: 4 Accuracy: 0.953141\n",
      "Epoch: 5 Accuracy: 0.954629\n",
      "Epoch: 6 Accuracy: 0.955740\n",
      "Epoch: 7 Accuracy: 0.956660\n",
      "Epoch: 8 Accuracy: 0.957537\n",
      "Epoch: 9 Accuracy: 0.958633\n",
      "Epoch: 10 Accuracy: 0.959028\n",
      "Epoch: 11 Accuracy: 0.959821\n",
      "Epoch: 12 Accuracy: 0.959777\n",
      "Epoch: 13 Accuracy: 0.961037\n",
      "Epoch: 14 Accuracy: 0.960599\n",
      "CPU times: total: 1h 2min 50s\n",
      "Wall time: 1h 3min 4s\n"
     ]
    }
   ],
   "source": [
    "%%time\n",
    "sp_ext_c.fit(feature_mapper_ext.dataset, num_epochs)"
   ]
  },
  {
   "cell_type": "code",
   "execution_count": 51,
   "metadata": {
    "collapsed": false,
    "jupyter": {
     "outputs_hidden": false
    }
   },
   "outputs": [],
   "source": [
    "sp_ext_c.save_model(\"fitted_models/02C_SP_Extended_Features\")"
   ]
  },
  {
   "attachments": {},
   "cell_type": "markdown",
   "metadata": {
    "collapsed": false,
    "jupyter": {
     "outputs_hidden": false
    }
   },
   "source": [
    "## Deep Learning Approach: Bi-LSTM"
   ]
  },
  {
   "attachments": {},
   "cell_type": "markdown",
   "metadata": {
    "collapsed": false,
    "jupyter": {
     "outputs_hidden": false
    }
   },
   "source": [
    "### Download Data"
   ]
  },
  {
   "cell_type": "code",
   "execution_count": 52,
   "metadata": {
    "collapsed": false,
    "jupyter": {
     "outputs_hidden": false
    }
   },
   "outputs": [],
   "source": [
    "train = pd.read_csv(\"data/train_data_ner.csv\")\n",
    "test = pd.read_csv(\"data/test_data_ner.csv\")"
   ]
  },
  {
   "attachments": {},
   "cell_type": "markdown",
   "metadata": {
    "collapsed": false,
    "jupyter": {
     "outputs_hidden": false
    }
   },
   "source": [
    "### Preprocess Data"
   ]
  },
  {
   "cell_type": "code",
   "execution_count": 56,
   "metadata": {
    "collapsed": false,
    "jupyter": {
     "outputs_hidden": false
    }
   },
   "outputs": [],
   "source": [
    "sentences_train, tags_train, num_words, num_tags, word2idx, tag2idx = preprocess_BiLSTM_train_data(train)"
   ]
  },
  {
   "cell_type": "code",
   "execution_count": 57,
   "metadata": {
    "collapsed": false,
    "jupyter": {
     "outputs_hidden": false
    }
   },
   "outputs": [],
   "source": [
    "sentences_test, tags_test = preprocess_BiLSTM_test_data(test, word2idx, tag2idx,num_words)"
   ]
  },
  {
   "attachments": {},
   "cell_type": "markdown",
   "metadata": {
    "collapsed": false,
    "jupyter": {
     "outputs_hidden": false
    }
   },
   "source": [
    "### Create and Train Model"
   ]
  },
  {
   "cell_type": "code",
   "execution_count": 60,
   "metadata": {
    "collapsed": false,
    "jupyter": {
     "outputs_hidden": false
    }
   },
   "outputs": [
    {
     "data": {
      "image/png": "[encoded data removed]",
      "text/plain": [
       "<Figure size 1200x800 with 2 Axes>"
      ]
     },
     "metadata": {},
     "output_type": "display_data"
    },
    {
     "name": "stdout",
     "output_type": "stream",
     "text": [
      "accuracy\n",
      "\ttraining         \t (min:    0.979, max:    0.994, cur:    0.994)\n",
      "\tvalidation       \t (min:    0.977, max:    0.977, cur:    0.977)\n",
      "Loss\n",
      "\ttraining         \t (min:    0.020, max:    0.157, cur:    0.020)\n",
      "\tvalidation       \t (min:    0.271, max:    0.299, cur:    0.288)\n",
      "\n",
      "Epoch 8: val_loss did not improve from 0.27132\n",
      "\u001b[1m1199/1199\u001b[0m \u001b[32m━━━━━━━━━━━━━━━━━━━━\u001b[0m\u001b[37m\u001b[0m \u001b[1m275s\u001b[0m 230ms/step - accuracy: 0.9945 - loss: 0.0196 - val_accuracy: 0.9771 - val_loss: 0.2876\n"
     ]
    },
    {
     "data": {
      "text/html": [
       "\n",
       "      <iframe id=\"tensorboard-frame-e7a80151ab9ba04a\" width=\"100%\" height=\"800\" frameborder=\"0\">\n",
       "      </iframe>\n",
       "      <script>\n",
       "        (function() {\n",
       "          const frame = document.getElementById(\"tensorboard-frame-e7a80151ab9ba04a\");\n",
       "          const url = new URL(\"/\", window.location);\n",
       "          const port = 6006;\n",
       "          if (port) {\n",
       "            url.port = port;\n",
       "          }\n",
       "          frame.src = url;\n",
       "        })();\n",
       "      </script>\n",
       "    "
      ],
      "text/plain": [
       "<IPython.core.display.HTML object>"
      ]
     },
     "metadata": {},
     "output_type": "display_data"
    }
   ],
   "source": [
    "logdir = \"log/\"\n",
    "tensorboard_callback = tf.keras.callbacks.TensorBoard(log_dir=logdir)\n",
    "\n",
    "# ModelCheckpoint callback to save the best model weights\n",
    "chkpt = ModelCheckpoint(\"model.weights.h5\", monitor='val_loss', verbose=1, save_best_only=True, save_weights_only=True, mode='min')\n",
    "\n",
    "# EarlyStopping callback to stop training early if validation accuracy doesn't improve\n",
    "early_stopping = EarlyStopping(monitor='val_accuracy', min_delta=0, patience=1, verbose=0, mode='max', baseline=None, restore_best_weights=False)\n",
    "\n",
    "# define a list of callbacks to be used during training\n",
    "callbacks = [PlotLossesCallback(), chkpt, early_stopping, tensorboard_callback]\n",
    "\n",
    "# create the BiLSTM model\n",
    "model = create_BiLSTM_model(num_words)\n",
    "\n",
    "# train the model\n",
    "history = model.fit(\n",
    "    x=sentences_train,\n",
    "    y=tags_train,\n",
    "    validation_data=(sentences_test, tags_test),\n",
    "    batch_size=32,\n",
    "    epochs=10,\n",
    "    callbacks=callbacks,\n",
    "    verbose=1\n",
    ")\n",
    "\n",
    "# load the TensorBoard extension\n",
    "%load_ext tensorboard\n",
    "\n",
    "# launch TensorBoard to visualize the logs\n",
    "%tensorboard --logdir log"
   ]
  },
  {
   "cell_type": "code",
   "execution_count": 61,
   "metadata": {
    "collapsed": false,
    "jupyter": {
     "outputs_hidden": false
    }
   },
   "outputs": [],
   "source": [
    "model.save(\"fitted_models/03_BiLSTM.keras\")"
   ]
  }
 ],
 "metadata": {
  "kernelspec": {
   "display_name": "Python 3 (ipykernel)",
   "language": "python",
   "name": "python3"
  },
  "language_info": {
   "codemirror_mode": {
    "name": "ipython",
    "version": 3
   },
   "file_extension": ".py",
   "mimetype": "text/x-python",
   "name": "python",
   "nbconvert_exporter": "python",
   "pygments_lexer": "ipython3",
   "version": "3.11.7"
  }
 },
 "nbformat": 4,
 "nbformat_minor": 4
}
